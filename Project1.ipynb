{
  "nbformat": 4,
  "nbformat_minor": 0,
  "metadata": {
    "colab": {
      "name": "Project1",
      "provenance": [],
      "collapsed_sections": [],
      "authorship_tag": "ABX9TyM809jDtXxhQewRC2sLcs4i",
      "include_colab_link": true
    },
    "kernelspec": {
      "name": "python3",
      "display_name": "Python 3"
    },
    "language_info": {
      "name": "python"
    }
  },
  "cells": [
    {
      "cell_type": "markdown",
      "metadata": {
        "id": "view-in-github",
        "colab_type": "text"
      },
      "source": [
        "<a href=\"https://colab.research.google.com/github/berkayberatsonmez/Colab/blob/main/Project1.ipynb\" target=\"_parent\"><img src=\"https://colab.research.google.com/assets/colab-badge.svg\" alt=\"Open In Colab\"/></a>"
      ]
    },
    {
      "cell_type": "code",
      "source": [
        "import pandas as pd"
      ],
      "metadata": {
        "id": "VkqCHN_0ieQO"
      },
      "execution_count": 56,
      "outputs": []
    },
    {
      "cell_type": "code",
      "source": [
        "def calculation(midterm_exam1, midterm_exam2, final):\n",
        "\n",
        "  letter_grade = ''\n",
        "  result = ''\n",
        "  score = (midterm_exam1 * 30 / 100) + (midterm_exam2 * 30 / 100) + (final * 40 / 100)\n",
        "\n",
        "  if (100 >= score >= 85) :\n",
        "    print('Pass')\n",
        "    letter_grade = 'A'\n",
        "    result = 'Pass'\n",
        "\n",
        "  elif (85 > score >= 70) :\n",
        "    print('Pass')\n",
        "    letter_grade = 'B'\n",
        "    result = 'Pass'\n",
        "\n",
        "  elif (70 > score >= 55) :\n",
        "    print('Pass')\n",
        "    letter_grade = 'C'\n",
        "    result = 'Pass'\n",
        "\n",
        "  elif (55 > score >= 40) :\n",
        "    print('Pass')\n",
        "    letter_grade = 'D'\n",
        "    result = 'Pass'\n",
        "\n",
        "  else:\n",
        "    print('Fail')\n",
        "    letter_grade = 'F'\n",
        "    result = 'Fail'\n",
        "    \n",
        "  return score,letter_grade,result"
      ],
      "metadata": {
        "id": "r1iJHVT8hJlN"
      },
      "execution_count": 57,
      "outputs": []
    },
    {
      "cell_type": "code",
      "source": [
        "while True:\n",
        "\n",
        "  decision = input('Do you wanna add new student or clean data set [Yes/No/Clean]:')\n",
        "\n",
        "  if decision.lower() == 'yes' or decision.lower() == 'y':\n",
        "\n",
        "    try:\n",
        "      data = {}\n",
        "      name = input('Enter your Name:')\n",
        "      surname = input('Enter your Surname:')\n",
        "      student_class = input('Enter your Class:')\n",
        "      lesson = input('Enter your Lesson')\n",
        "      midterm1 = int(input('Enter 1.Midterm Exam:'))\n",
        "      midterm2 = int(input('Enter 2.Midterm Exam:'))\n",
        "      final_exam = int(input('Enter Final Exam:'))\n",
        "      gpa,grade,result = calculation(midterm1, midterm2, final_exam)\n",
        "      data = {'Name': name, 'Surname': surname, 'Class': student_class, 'Lesson': lesson, '1.Midterm_Exam': midterm1, '2.Midterm_Exam': midterm2, 'Final': final_exam, 'GPA': gpa, 'Grade_Status': grade, 'Result': result}\n",
        "      df = df.append(data, ignore_index = True)\n",
        "\n",
        "    except:\n",
        "      print(\"Enter correct type\")\n",
        "      data = {}\n",
        "\n",
        "  elif decision.lower() == 'clean' or decision.lower() == 'c':\n",
        "    df = df.drop(range(len(df)))\n",
        "    print('Data deleting...')\n",
        "\n",
        "  else:\n",
        "    break\n"
      ],
      "metadata": {
        "colab": {
          "base_uri": "https://localhost:8080/"
        },
        "id": "LEywQ2tjmrBD",
        "outputId": "eae2360f-3653-4697-ad5f-dd9e3705e30d"
      },
      "execution_count": 61,
      "outputs": [
        {
          "name": "stdout",
          "output_type": "stream",
          "text": [
            "Do you wanna add new student or clean data set [Yes/No/Clean]:yes\n",
            "Enter your Name:5\n",
            "Enter your Surname:asd\n",
            "Enter your Class:asd\n",
            "Enter your Lessonasd\n",
            "Enter 1.Midterm Exam:asd\n",
            "Enter correct type\n",
            "Do you wanna add new student or clean data set [Yes/No/Clean]:no\n"
          ]
        }
      ]
    },
    {
      "cell_type": "code",
      "source": [
        "df.to_excel(\"output.xlsx\")"
      ],
      "metadata": {
        "id": "t5ZRfM7YBBIJ"
      },
      "execution_count": 60,
      "outputs": []
    }
  ]
}