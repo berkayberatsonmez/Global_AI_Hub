{
  "nbformat": 4,
  "nbformat_minor": 0,
  "metadata": {
    "colab": {
      "name": "Project1",
      "provenance": [],
      "collapsed_sections": [],
      "authorship_tag": "ABX9TyN12TamXtXocCowi9e5y0Lf",
      "include_colab_link": true
    },
    "kernelspec": {
      "name": "python3",
      "display_name": "Python 3"
    },
    "language_info": {
      "name": "python"
    }
  },
  "cells": [
    {
      "cell_type": "markdown",
      "metadata": {
        "id": "view-in-github",
        "colab_type": "text"
      },
      "source": [
        "<a href=\"https://colab.research.google.com/github/berkayberatsonmez/Colab/blob/main/Project1.ipynb\" target=\"_parent\"><img src=\"https://colab.research.google.com/assets/colab-badge.svg\" alt=\"Open In Colab\"/></a>"
      ]
    },
    {
      "cell_type": "code",
      "source": [
        "import pandas as pd"
      ],
      "metadata": {
        "id": "VkqCHN_0ieQO"
      },
      "execution_count": 62,
      "outputs": []
    },
    {
      "cell_type": "code",
      "source": [
        "def calculation(midterm_exam1, midterm_exam2, final):\n",
        "\n",
        "  letter_grade = ''\n",
        "  result = ''\n",
        "  score = (midterm_exam1 * 30 / 100) + (midterm_exam2 * 30 / 100) + (final * 40 / 100)\n",
        "\n",
        "  if (100 >= score >= 85) :\n",
        "    print('Pass')\n",
        "    letter_grade = 'A'\n",
        "    result = 'Pass'\n",
        "\n",
        "  elif (85 > score >= 70) :\n",
        "    print('Pass')\n",
        "    letter_grade = 'B'\n",
        "    result = 'Pass'\n",
        "\n",
        "  elif (70 > score >= 55) :\n",
        "    print('Pass')\n",
        "    letter_grade = 'C'\n",
        "    result = 'Pass'\n",
        "\n",
        "  elif (55 > score >= 40) :\n",
        "    print('Pass')\n",
        "    letter_grade = 'D'\n",
        "    result = 'Pass'\n",
        "\n",
        "  else:\n",
        "    print('Fail')\n",
        "    letter_grade = 'F'\n",
        "    result = 'Fail'\n",
        "    \n",
        "  return score,letter_grade,result"
      ],
      "metadata": {
        "id": "r1iJHVT8hJlN"
      },
      "execution_count": 63,
      "outputs": []
    },
    {
      "cell_type": "code",
      "source": [
        "while True:\n",
        "\n",
        "  decision = input('Do you wanna add new student or clean data set [Yes/No/Clean]:')\n",
        "\n",
        "  if decision.lower() == 'yes' or decision.lower() == 'y':\n",
        "\n",
        "    try:\n",
        "      data = {}\n",
        "      name = input('Enter your Name:')\n",
        "      surname = input('Enter your Surname:')\n",
        "      student_class = input('Enter your Class:')\n",
        "      lesson = input('Enter your Lesson')\n",
        "      midterm1 = int(input('Enter 1.Midterm Exam:'))\n",
        "      midterm2 = int(input('Enter 2.Midterm Exam:'))\n",
        "      final_exam = int(input('Enter Final Exam:'))\n",
        "      gpa,grade,result = calculation(midterm1, midterm2, final_exam)\n",
        "      data = {'Name': name, 'Surname': surname, 'Class': student_class, 'Lesson': lesson, '1.Midterm_Exam': midterm1, '2.Midterm_Exam': midterm2, 'Final': final_exam, 'GPA': gpa, 'Grade_Status': grade, 'Result': result}\n",
        "      df = df.append(data, ignore_index = True)\n",
        "\n",
        "    except:\n",
        "      print(\"Enter correct type\")\n",
        "      data = {}\n",
        "\n",
        "  elif decision.lower() == 'clean' or decision.lower() == 'c':\n",
        "    df = df.drop(range(len(df)))\n",
        "    print('Data deleting...')\n",
        "\n",
        "  else:\n",
        "    break\n"
      ],
      "metadata": {
        "colab": {
          "base_uri": "https://localhost:8080/"
        },
        "id": "LEywQ2tjmrBD",
        "outputId": "25d815c2-ffe4-477a-ea11-06b3c78d2ec5"
      },
      "execution_count": 64,
      "outputs": [
        {
          "name": "stdout",
          "output_type": "stream",
          "text": [
            "Do you wanna add new student or clean data set [Yes/No/Clean]:yes\n",
            "Enter your Name:berkay berat\n",
            "Enter your Surname:sonmez\n",
            "Enter your Class:12-a\n",
            "Enter your LessonMath\n",
            "Enter 1.Midterm Exam:85\n",
            "Enter 2.Midterm Exam:90\n",
            "Enter Final Exam:70\n",
            "Pass\n",
            "Do you wanna add new student or clean data set [Yes/No/Clean]:Yes\n",
            "Enter your Name:berkay berat\n",
            "Enter your Surname:sonmez\n",
            "Enter your Class:12-a\n",
            "Enter your LessonMath\n",
            "Enter 1.Midterm Exam:10\n",
            "Enter 2.Midterm Exam:10\n",
            "Enter Final Exam:10\n",
            "Fail\n",
            "Do you wanna add new student or clean data set [Yes/No/Clean]:no\n"
          ]
        }
      ]
    },
    {
      "cell_type": "code",
      "source": [
        "df"
      ],
      "metadata": {
        "colab": {
          "base_uri": "https://localhost:8080/",
          "height": 156
        },
        "id": "gyMnj3xVKez4",
        "outputId": "6feb730d-451b-4328-a966-b9bcd5d1fe79"
      },
      "execution_count": 66,
      "outputs": [
        {
          "output_type": "execute_result",
          "data": {
            "text/plain": [
              "           Name Surname Class Lesson 1.Midterm_Exam 2.Midterm_Exam Final  \\\n",
              "0  berkay berat  sonmez  12-a   Math             85             90    70   \n",
              "1  berkay berat  sonmez  12-a   Math             10             10    10   \n",
              "\n",
              "    GPA Grade_Status Result  \n",
              "0  80.5            B   Pass  \n",
              "1  10.0            F   Fail  "
            ],
            "text/html": [
              "\n",
              "  <div id=\"df-6baa06b3-20d2-401d-935c-eefac8ad21a8\">\n",
              "    <div class=\"colab-df-container\">\n",
              "      <div>\n",
              "<style scoped>\n",
              "    .dataframe tbody tr th:only-of-type {\n",
              "        vertical-align: middle;\n",
              "    }\n",
              "\n",
              "    .dataframe tbody tr th {\n",
              "        vertical-align: top;\n",
              "    }\n",
              "\n",
              "    .dataframe thead th {\n",
              "        text-align: right;\n",
              "    }\n",
              "</style>\n",
              "<table border=\"1\" class=\"dataframe\">\n",
              "  <thead>\n",
              "    <tr style=\"text-align: right;\">\n",
              "      <th></th>\n",
              "      <th>Name</th>\n",
              "      <th>Surname</th>\n",
              "      <th>Class</th>\n",
              "      <th>Lesson</th>\n",
              "      <th>1.Midterm_Exam</th>\n",
              "      <th>2.Midterm_Exam</th>\n",
              "      <th>Final</th>\n",
              "      <th>GPA</th>\n",
              "      <th>Grade_Status</th>\n",
              "      <th>Result</th>\n",
              "    </tr>\n",
              "  </thead>\n",
              "  <tbody>\n",
              "    <tr>\n",
              "      <th>0</th>\n",
              "      <td>berkay berat</td>\n",
              "      <td>sonmez</td>\n",
              "      <td>12-a</td>\n",
              "      <td>Math</td>\n",
              "      <td>85</td>\n",
              "      <td>90</td>\n",
              "      <td>70</td>\n",
              "      <td>80.5</td>\n",
              "      <td>B</td>\n",
              "      <td>Pass</td>\n",
              "    </tr>\n",
              "    <tr>\n",
              "      <th>1</th>\n",
              "      <td>berkay berat</td>\n",
              "      <td>sonmez</td>\n",
              "      <td>12-a</td>\n",
              "      <td>Math</td>\n",
              "      <td>10</td>\n",
              "      <td>10</td>\n",
              "      <td>10</td>\n",
              "      <td>10.0</td>\n",
              "      <td>F</td>\n",
              "      <td>Fail</td>\n",
              "    </tr>\n",
              "  </tbody>\n",
              "</table>\n",
              "</div>\n",
              "      <button class=\"colab-df-convert\" onclick=\"convertToInteractive('df-6baa06b3-20d2-401d-935c-eefac8ad21a8')\"\n",
              "              title=\"Convert this dataframe to an interactive table.\"\n",
              "              style=\"display:none;\">\n",
              "        \n",
              "  <svg xmlns=\"http://www.w3.org/2000/svg\" height=\"24px\"viewBox=\"0 0 24 24\"\n",
              "       width=\"24px\">\n",
              "    <path d=\"M0 0h24v24H0V0z\" fill=\"none\"/>\n",
              "    <path d=\"M18.56 5.44l.94 2.06.94-2.06 2.06-.94-2.06-.94-.94-2.06-.94 2.06-2.06.94zm-11 1L8.5 8.5l.94-2.06 2.06-.94-2.06-.94L8.5 2.5l-.94 2.06-2.06.94zm10 10l.94 2.06.94-2.06 2.06-.94-2.06-.94-.94-2.06-.94 2.06-2.06.94z\"/><path d=\"M17.41 7.96l-1.37-1.37c-.4-.4-.92-.59-1.43-.59-.52 0-1.04.2-1.43.59L10.3 9.45l-7.72 7.72c-.78.78-.78 2.05 0 2.83L4 21.41c.39.39.9.59 1.41.59.51 0 1.02-.2 1.41-.59l7.78-7.78 2.81-2.81c.8-.78.8-2.07 0-2.86zM5.41 20L4 18.59l7.72-7.72 1.47 1.35L5.41 20z\"/>\n",
              "  </svg>\n",
              "      </button>\n",
              "      \n",
              "  <style>\n",
              "    .colab-df-container {\n",
              "      display:flex;\n",
              "      flex-wrap:wrap;\n",
              "      gap: 12px;\n",
              "    }\n",
              "\n",
              "    .colab-df-convert {\n",
              "      background-color: #E8F0FE;\n",
              "      border: none;\n",
              "      border-radius: 50%;\n",
              "      cursor: pointer;\n",
              "      display: none;\n",
              "      fill: #1967D2;\n",
              "      height: 32px;\n",
              "      padding: 0 0 0 0;\n",
              "      width: 32px;\n",
              "    }\n",
              "\n",
              "    .colab-df-convert:hover {\n",
              "      background-color: #E2EBFA;\n",
              "      box-shadow: 0px 1px 2px rgba(60, 64, 67, 0.3), 0px 1px 3px 1px rgba(60, 64, 67, 0.15);\n",
              "      fill: #174EA6;\n",
              "    }\n",
              "\n",
              "    [theme=dark] .colab-df-convert {\n",
              "      background-color: #3B4455;\n",
              "      fill: #D2E3FC;\n",
              "    }\n",
              "\n",
              "    [theme=dark] .colab-df-convert:hover {\n",
              "      background-color: #434B5C;\n",
              "      box-shadow: 0px 1px 3px 1px rgba(0, 0, 0, 0.15);\n",
              "      filter: drop-shadow(0px 1px 2px rgba(0, 0, 0, 0.3));\n",
              "      fill: #FFFFFF;\n",
              "    }\n",
              "  </style>\n",
              "\n",
              "      <script>\n",
              "        const buttonEl =\n",
              "          document.querySelector('#df-6baa06b3-20d2-401d-935c-eefac8ad21a8 button.colab-df-convert');\n",
              "        buttonEl.style.display =\n",
              "          google.colab.kernel.accessAllowed ? 'block' : 'none';\n",
              "\n",
              "        async function convertToInteractive(key) {\n",
              "          const element = document.querySelector('#df-6baa06b3-20d2-401d-935c-eefac8ad21a8');\n",
              "          const dataTable =\n",
              "            await google.colab.kernel.invokeFunction('convertToInteractive',\n",
              "                                                     [key], {});\n",
              "          if (!dataTable) return;\n",
              "\n",
              "          const docLinkHtml = 'Like what you see? Visit the ' +\n",
              "            '<a target=\"_blank\" href=https://colab.research.google.com/notebooks/data_table.ipynb>data table notebook</a>'\n",
              "            + ' to learn more about interactive tables.';\n",
              "          element.innerHTML = '';\n",
              "          dataTable['output_type'] = 'display_data';\n",
              "          await google.colab.output.renderOutput(dataTable, element);\n",
              "          const docLink = document.createElement('div');\n",
              "          docLink.innerHTML = docLinkHtml;\n",
              "          element.appendChild(docLink);\n",
              "        }\n",
              "      </script>\n",
              "    </div>\n",
              "  </div>\n",
              "  "
            ]
          },
          "metadata": {},
          "execution_count": 66
        }
      ]
    },
    {
      "cell_type": "code",
      "source": [
        "df.to_excel(\"output.xlsx\")"
      ],
      "metadata": {
        "id": "t5ZRfM7YBBIJ"
      },
      "execution_count": 65,
      "outputs": []
    }
  ]
}