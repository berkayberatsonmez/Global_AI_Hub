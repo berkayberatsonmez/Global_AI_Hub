{
  "metadata": {
    "kernelspec": {
      "language": "python",
      "display_name": "Python 3",
      "name": "python3"
    },
    "language_info": {
      "name": "python",
      "version": "3.7.12",
      "mimetype": "text/x-python",
      "codemirror_mode": {
        "name": "ipython",
        "version": 3
      },
      "pygments_lexer": "ipython3",
      "nbconvert_exporter": "python",
      "file_extension": ".py"
    },
    "colab": {
      "name": "netflix-ile-gorsellestirme.ipynb",
      "provenance": [],
      "include_colab_link": true
    }
  },
  "nbformat_minor": 0,
  "nbformat": 4,
  "cells": [
    {
      "cell_type": "markdown",
      "metadata": {
        "id": "view-in-github",
        "colab_type": "text"
      },
      "source": [
        "<a href=\"https://colab.research.google.com/github/berkayberatsonmez/Global_AI_Hun/blob/main/netflix_ile_gorsellestirme.ipynb\" target=\"_parent\"><img src=\"https://colab.research.google.com/assets/colab-badge.svg\" alt=\"Open In Colab\"/></a>"
      ]
    },
    {
      "cell_type": "code",
      "source": [
        "import pandas as pd\n",
        "import numpy as np\n",
        "from matplotlib import pyplot as plt\n",
        "import seaborn as sns"
      ],
      "metadata": {
        "execution": {
          "iopub.status.busy": "2022-07-23T06:29:03.973893Z",
          "iopub.execute_input": "2022-07-23T06:29:03.974432Z",
          "iopub.status.idle": "2022-07-23T06:29:03.986724Z",
          "shell.execute_reply.started": "2022-07-23T06:29:03.974402Z",
          "shell.execute_reply": "2022-07-23T06:29:03.984922Z"
        },
        "trusted": true,
        "id": "0noEHoWCfgT_"
      },
      "execution_count": 7,
      "outputs": []
    },
    {
      "cell_type": "code",
      "source": [
        "pd.set_option('display.max_rows', None)\n",
        "pd.set_option('display.max_columns', None)\n",
        "pd.set_option('display.width', 500)"
      ],
      "metadata": {
        "execution": {
          "iopub.status.busy": "2022-07-23T06:29:03.988973Z",
          "iopub.execute_input": "2022-07-23T06:29:03.989392Z",
          "iopub.status.idle": "2022-07-23T06:29:04.007176Z",
          "shell.execute_reply.started": "2022-07-23T06:29:03.989338Z",
          "shell.execute_reply": "2022-07-23T06:29:04.005965Z"
        },
        "trusted": true,
        "id": "Qa5chlFnfgUC"
      },
      "execution_count": 8,
      "outputs": []
    },
    {
      "cell_type": "code",
      "source": [
        "df=pd.read_csv(\"/content/NetflixOriginals.csv\", encoding = \"ISO-8859-1\")"
      ],
      "metadata": {
        "execution": {
          "iopub.status.busy": "2022-07-23T06:29:04.009655Z",
          "iopub.execute_input": "2022-07-23T06:29:04.010215Z",
          "iopub.status.idle": "2022-07-23T06:29:04.030165Z",
          "shell.execute_reply.started": "2022-07-23T06:29:04.010171Z",
          "shell.execute_reply": "2022-07-23T06:29:04.028783Z"
        },
        "trusted": true,
        "id": "UIcLST1IfgUE"
      },
      "execution_count": 9,
      "outputs": []
    },
    {
      "cell_type": "code",
      "source": [
        "df.head()"
      ],
      "metadata": {
        "execution": {
          "iopub.status.busy": "2022-07-23T06:29:04.031803Z",
          "iopub.execute_input": "2022-07-23T06:29:04.032347Z",
          "iopub.status.idle": "2022-07-23T06:29:04.048682Z",
          "shell.execute_reply.started": "2022-07-23T06:29:04.032315Z",
          "shell.execute_reply": "2022-07-23T06:29:04.047235Z"
        },
        "trusted": true,
        "colab": {
          "base_uri": "https://localhost:8080/",
          "height": 206
        },
        "id": "UMchcVnrfgUG",
        "outputId": "b5932bda-bf96-4a73-ad6e-f63ce4cb57f2"
      },
      "execution_count": 10,
      "outputs": [
        {
          "output_type": "execute_result",
          "data": {
            "text/plain": [
              "             Title                  Genre           Premiere  Runtime  IMDB Score          Language\n",
              "0  Enter the Anime            Documentary     August 5, 2019       58         2.5  English/Japanese\n",
              "1      Dark Forces               Thriller    August 21, 2020       81         2.6           Spanish\n",
              "2          The App  Science fiction/Drama  December 26, 2019       79         2.6           Italian\n",
              "3   The Open House        Horror thriller   January 19, 2018       94         3.2           English\n",
              "4      Kaali Khuhi                Mystery   October 30, 2020       90         3.4             Hindi"
            ],
            "text/html": [
              "\n",
              "  <div id=\"df-ff491e8b-071a-45ab-98cd-ebbc92274047\">\n",
              "    <div class=\"colab-df-container\">\n",
              "      <div>\n",
              "<style scoped>\n",
              "    .dataframe tbody tr th:only-of-type {\n",
              "        vertical-align: middle;\n",
              "    }\n",
              "\n",
              "    .dataframe tbody tr th {\n",
              "        vertical-align: top;\n",
              "    }\n",
              "\n",
              "    .dataframe thead th {\n",
              "        text-align: right;\n",
              "    }\n",
              "</style>\n",
              "<table border=\"1\" class=\"dataframe\">\n",
              "  <thead>\n",
              "    <tr style=\"text-align: right;\">\n",
              "      <th></th>\n",
              "      <th>Title</th>\n",
              "      <th>Genre</th>\n",
              "      <th>Premiere</th>\n",
              "      <th>Runtime</th>\n",
              "      <th>IMDB Score</th>\n",
              "      <th>Language</th>\n",
              "    </tr>\n",
              "  </thead>\n",
              "  <tbody>\n",
              "    <tr>\n",
              "      <th>0</th>\n",
              "      <td>Enter the Anime</td>\n",
              "      <td>Documentary</td>\n",
              "      <td>August 5, 2019</td>\n",
              "      <td>58</td>\n",
              "      <td>2.5</td>\n",
              "      <td>English/Japanese</td>\n",
              "    </tr>\n",
              "    <tr>\n",
              "      <th>1</th>\n",
              "      <td>Dark Forces</td>\n",
              "      <td>Thriller</td>\n",
              "      <td>August 21, 2020</td>\n",
              "      <td>81</td>\n",
              "      <td>2.6</td>\n",
              "      <td>Spanish</td>\n",
              "    </tr>\n",
              "    <tr>\n",
              "      <th>2</th>\n",
              "      <td>The App</td>\n",
              "      <td>Science fiction/Drama</td>\n",
              "      <td>December 26, 2019</td>\n",
              "      <td>79</td>\n",
              "      <td>2.6</td>\n",
              "      <td>Italian</td>\n",
              "    </tr>\n",
              "    <tr>\n",
              "      <th>3</th>\n",
              "      <td>The Open House</td>\n",
              "      <td>Horror thriller</td>\n",
              "      <td>January 19, 2018</td>\n",
              "      <td>94</td>\n",
              "      <td>3.2</td>\n",
              "      <td>English</td>\n",
              "    </tr>\n",
              "    <tr>\n",
              "      <th>4</th>\n",
              "      <td>Kaali Khuhi</td>\n",
              "      <td>Mystery</td>\n",
              "      <td>October 30, 2020</td>\n",
              "      <td>90</td>\n",
              "      <td>3.4</td>\n",
              "      <td>Hindi</td>\n",
              "    </tr>\n",
              "  </tbody>\n",
              "</table>\n",
              "</div>\n",
              "      <button class=\"colab-df-convert\" onclick=\"convertToInteractive('df-ff491e8b-071a-45ab-98cd-ebbc92274047')\"\n",
              "              title=\"Convert this dataframe to an interactive table.\"\n",
              "              style=\"display:none;\">\n",
              "        \n",
              "  <svg xmlns=\"http://www.w3.org/2000/svg\" height=\"24px\"viewBox=\"0 0 24 24\"\n",
              "       width=\"24px\">\n",
              "    <path d=\"M0 0h24v24H0V0z\" fill=\"none\"/>\n",
              "    <path d=\"M18.56 5.44l.94 2.06.94-2.06 2.06-.94-2.06-.94-.94-2.06-.94 2.06-2.06.94zm-11 1L8.5 8.5l.94-2.06 2.06-.94-2.06-.94L8.5 2.5l-.94 2.06-2.06.94zm10 10l.94 2.06.94-2.06 2.06-.94-2.06-.94-.94-2.06-.94 2.06-2.06.94z\"/><path d=\"M17.41 7.96l-1.37-1.37c-.4-.4-.92-.59-1.43-.59-.52 0-1.04.2-1.43.59L10.3 9.45l-7.72 7.72c-.78.78-.78 2.05 0 2.83L4 21.41c.39.39.9.59 1.41.59.51 0 1.02-.2 1.41-.59l7.78-7.78 2.81-2.81c.8-.78.8-2.07 0-2.86zM5.41 20L4 18.59l7.72-7.72 1.47 1.35L5.41 20z\"/>\n",
              "  </svg>\n",
              "      </button>\n",
              "      \n",
              "  <style>\n",
              "    .colab-df-container {\n",
              "      display:flex;\n",
              "      flex-wrap:wrap;\n",
              "      gap: 12px;\n",
              "    }\n",
              "\n",
              "    .colab-df-convert {\n",
              "      background-color: #E8F0FE;\n",
              "      border: none;\n",
              "      border-radius: 50%;\n",
              "      cursor: pointer;\n",
              "      display: none;\n",
              "      fill: #1967D2;\n",
              "      height: 32px;\n",
              "      padding: 0 0 0 0;\n",
              "      width: 32px;\n",
              "    }\n",
              "\n",
              "    .colab-df-convert:hover {\n",
              "      background-color: #E2EBFA;\n",
              "      box-shadow: 0px 1px 2px rgba(60, 64, 67, 0.3), 0px 1px 3px 1px rgba(60, 64, 67, 0.15);\n",
              "      fill: #174EA6;\n",
              "    }\n",
              "\n",
              "    [theme=dark] .colab-df-convert {\n",
              "      background-color: #3B4455;\n",
              "      fill: #D2E3FC;\n",
              "    }\n",
              "\n",
              "    [theme=dark] .colab-df-convert:hover {\n",
              "      background-color: #434B5C;\n",
              "      box-shadow: 0px 1px 3px 1px rgba(0, 0, 0, 0.15);\n",
              "      filter: drop-shadow(0px 1px 2px rgba(0, 0, 0, 0.3));\n",
              "      fill: #FFFFFF;\n",
              "    }\n",
              "  </style>\n",
              "\n",
              "      <script>\n",
              "        const buttonEl =\n",
              "          document.querySelector('#df-ff491e8b-071a-45ab-98cd-ebbc92274047 button.colab-df-convert');\n",
              "        buttonEl.style.display =\n",
              "          google.colab.kernel.accessAllowed ? 'block' : 'none';\n",
              "\n",
              "        async function convertToInteractive(key) {\n",
              "          const element = document.querySelector('#df-ff491e8b-071a-45ab-98cd-ebbc92274047');\n",
              "          const dataTable =\n",
              "            await google.colab.kernel.invokeFunction('convertToInteractive',\n",
              "                                                     [key], {});\n",
              "          if (!dataTable) return;\n",
              "\n",
              "          const docLinkHtml = 'Like what you see? Visit the ' +\n",
              "            '<a target=\"_blank\" href=https://colab.research.google.com/notebooks/data_table.ipynb>data table notebook</a>'\n",
              "            + ' to learn more about interactive tables.';\n",
              "          element.innerHTML = '';\n",
              "          dataTable['output_type'] = 'display_data';\n",
              "          await google.colab.output.renderOutput(dataTable, element);\n",
              "          const docLink = document.createElement('div');\n",
              "          docLink.innerHTML = docLinkHtml;\n",
              "          element.appendChild(docLink);\n",
              "        }\n",
              "      </script>\n",
              "    </div>\n",
              "  </div>\n",
              "  "
            ]
          },
          "metadata": {},
          "execution_count": 10
        }
      ]
    },
    {
      "cell_type": "code",
      "source": [
        "df.columns = [i.replace(' ', '_') for i in df.columns]"
      ],
      "metadata": {
        "execution": {
          "iopub.status.busy": "2022-07-23T06:29:04.051409Z",
          "iopub.execute_input": "2022-07-23T06:29:04.052510Z",
          "iopub.status.idle": "2022-07-23T06:29:04.065332Z",
          "shell.execute_reply.started": "2022-07-23T06:29:04.052450Z",
          "shell.execute_reply": "2022-07-23T06:29:04.064041Z"
        },
        "trusted": true,
        "id": "cfb4CYrPfgUI"
      },
      "execution_count": 11,
      "outputs": []
    },
    {
      "cell_type": "code",
      "source": [
        "# keşifçi veri analizi\n",
        "def check_df(dataframe, head=5):\n",
        "    print(\"##################### Shape #####################\")\n",
        "    print(dataframe.shape)\n",
        "    print(\"##################### Types #####################\")\n",
        "    print(dataframe.dtypes)\n",
        "    print(\"##################### Head #####################\")\n",
        "    print(dataframe.head(head))\n",
        "    print(\"##################### Tail #####################\")\n",
        "    print(dataframe.tail(head))\n",
        "    print(\"##################### NA #####################\")\n",
        "    print(dataframe.isnull().sum())\n",
        "    print(\"##################### Quantiles #####################\")\n",
        "    print(dataframe.quantile([0, 0.05, 0.50, 0.95, 0.99, 1]).T)"
      ],
      "metadata": {
        "execution": {
          "iopub.status.busy": "2022-07-23T06:29:04.066822Z",
          "iopub.execute_input": "2022-07-23T06:29:04.067804Z",
          "iopub.status.idle": "2022-07-23T06:29:04.082316Z",
          "shell.execute_reply.started": "2022-07-23T06:29:04.067772Z",
          "shell.execute_reply": "2022-07-23T06:29:04.080534Z"
        },
        "trusted": true,
        "id": "zbMITDD9fgUL"
      },
      "execution_count": 12,
      "outputs": []
    },
    {
      "cell_type": "code",
      "source": [
        "check_df(df)"
      ],
      "metadata": {
        "execution": {
          "iopub.status.busy": "2022-07-23T06:29:04.084834Z",
          "iopub.execute_input": "2022-07-23T06:29:04.085158Z",
          "iopub.status.idle": "2022-07-23T06:29:04.116909Z",
          "shell.execute_reply.started": "2022-07-23T06:29:04.085134Z",
          "shell.execute_reply": "2022-07-23T06:29:04.115121Z"
        },
        "trusted": true,
        "colab": {
          "base_uri": "https://localhost:8080/"
        },
        "id": "rU30jAzwfgUP",
        "outputId": "b13cfeec-4403-4650-98a2-7b1bf1dfb325"
      },
      "execution_count": 13,
      "outputs": [
        {
          "output_type": "stream",
          "name": "stdout",
          "text": [
            "##################### Shape #####################\n",
            "(584, 6)\n",
            "##################### Types #####################\n",
            "Title          object\n",
            "Genre          object\n",
            "Premiere       object\n",
            "Runtime         int64\n",
            "IMDB_Score    float64\n",
            "Language       object\n",
            "dtype: object\n",
            "##################### Head #####################\n",
            "             Title                  Genre           Premiere  Runtime  IMDB_Score          Language\n",
            "0  Enter the Anime            Documentary     August 5, 2019       58         2.5  English/Japanese\n",
            "1      Dark Forces               Thriller    August 21, 2020       81         2.6           Spanish\n",
            "2          The App  Science fiction/Drama  December 26, 2019       79         2.6           Italian\n",
            "3   The Open House        Horror thriller   January 19, 2018       94         3.2           English\n",
            "4      Kaali Khuhi                Mystery   October 30, 2020       90         3.4             Hindi\n",
            "##################### Tail #####################\n",
            "                                           Title         Genre           Premiere  Runtime  IMDB_Score                  Language\n",
            "579        Taylor Swift: Reputation Stadium Tour  Concert Film  December 31, 2018      125         8.4                   English\n",
            "580  Winter on Fire: Ukraine's Fight for Freedom   Documentary    October 9, 2015       91         8.4  English/Ukranian/Russian\n",
            "581                      Springsteen on Broadway  One-man show  December 16, 2018      153         8.5                   English\n",
            "582    Emicida: AmarElo - It's All For Yesterday   Documentary   December 8, 2020       89         8.6                Portuguese\n",
            "583     David Attenborough: A Life on Our Planet   Documentary    October 4, 2020       83         9.0                   English\n",
            "##################### NA #####################\n",
            "Title         0\n",
            "Genre         0\n",
            "Premiere      0\n",
            "Runtime       0\n",
            "IMDB_Score    0\n",
            "Language      0\n",
            "dtype: int64\n",
            "##################### Quantiles #####################\n",
            "            0.00   0.05   0.50   0.95     0.99   1.00\n",
            "Runtime      4.0  30.15  97.00  132.0  149.000  209.0\n",
            "IMDB_Score   2.5   4.60   6.35    7.7    8.317    9.0\n"
          ]
        }
      ]
    },
    {
      "cell_type": "markdown",
      "source": [
        "Veri setine göre uzun soluklu filmler hangi dilde oluşturulmuştur? Görselleştirme yapınız."
      ],
      "metadata": {
        "id": "hgEZukL_fgUS"
      }
    },
    {
      "cell_type": "code",
      "source": [
        "uzunsoluklu = df.groupby(\"Language\").agg({\"Runtime\": \"mean\"}).sort_values(by=\"Runtime\", ascending=False)"
      ],
      "metadata": {
        "execution": {
          "iopub.status.busy": "2022-07-23T06:29:04.118513Z",
          "iopub.execute_input": "2022-07-23T06:29:04.119221Z",
          "iopub.status.idle": "2022-07-23T06:29:04.131011Z",
          "shell.execute_reply.started": "2022-07-23T06:29:04.119186Z",
          "shell.execute_reply": "2022-07-23T06:29:04.129453Z"
        },
        "trusted": true,
        "id": "bIY3XauXfgUa"
      },
      "execution_count": 14,
      "outputs": []
    },
    {
      "cell_type": "code",
      "source": [
        "uzunsoluklu.reset_index(inplace=True)"
      ],
      "metadata": {
        "execution": {
          "iopub.status.busy": "2022-07-23T06:29:04.133926Z",
          "iopub.execute_input": "2022-07-23T06:29:04.135263Z",
          "iopub.status.idle": "2022-07-23T06:29:04.151319Z",
          "shell.execute_reply.started": "2022-07-23T06:29:04.135195Z",
          "shell.execute_reply": "2022-07-23T06:29:04.149793Z"
        },
        "trusted": true,
        "id": "twRwebcrfgUd"
      },
      "execution_count": 15,
      "outputs": []
    },
    {
      "cell_type": "code",
      "source": [
        "print(uzunsoluklu)"
      ],
      "metadata": {
        "execution": {
          "iopub.status.busy": "2022-07-23T06:29:04.152565Z",
          "iopub.execute_input": "2022-07-23T06:29:04.153437Z",
          "iopub.status.idle": "2022-07-23T06:29:04.169641Z",
          "shell.execute_reply.started": "2022-07-23T06:29:04.153401Z",
          "shell.execute_reply": "2022-07-23T06:29:04.168430Z"
        },
        "trusted": true,
        "colab": {
          "base_uri": "https://localhost:8080/"
        },
        "id": "Uj9siGdMfgUf",
        "outputId": "5ebff722-59bf-4b21-c52c-7790e04f1f68"
      },
      "execution_count": 16,
      "outputs": [
        {
          "output_type": "stream",
          "name": "stdout",
          "text": [
            "                      Language     Runtime\n",
            "0                 English/Akan  136.000000\n",
            "1         Khmer/English/French  136.000000\n",
            "2                      Marathi  121.666667\n",
            "3               English/Korean  121.000000\n",
            "4              Spanish/Catalan  116.000000\n",
            "5                       Korean  115.833333\n",
            "6                        Hindi  115.787879\n",
            "7               English/Arabic  114.000000\n",
            "8                   Indonesian  103.777778\n",
            "9                      Turkish  101.800000\n",
            "10                       Malay  101.000000\n",
            "11                       Tamil  101.000000\n",
            "12                        Thai  101.000000\n",
            "13                       Dutch   99.666667\n",
            "14                      German   99.600000\n",
            "15                    Filipino   99.500000\n",
            "16                    Japanese   99.333333\n",
            "17                      Polish   98.666667\n",
            "18                     Italian   98.357143\n",
            "19             Spanish/English   96.000000\n",
            "20                     Spanish   93.387097\n",
            "21                      French   92.700000\n",
            "22                     English   91.817955\n",
            "23                  Portuguese   91.250000\n",
            "24    English/Ukranian/Russian   91.000000\n",
            "25  English/Taiwanese/Mandarin   91.000000\n",
            "26             English/Russian   90.000000\n",
            "27            English/Japanese   89.000000\n",
            "28              Spanish/Basque   89.000000\n",
            "29                     Swedish   86.000000\n",
            "30                   Norwegian   86.000000\n",
            "31                Thia/English   80.000000\n",
            "32            English/Mandarin   59.000000\n",
            "33                     Bengali   41.000000\n",
            "34             English/Swedish   40.000000\n",
            "35             English/Spanish   39.200000\n",
            "36               English/Hindi   32.500000\n",
            "37                    Georgian   23.000000\n"
          ]
        }
      ]
    },
    {
      "cell_type": "code",
      "source": [
        "\n",
        "f=plt.figure(figsize=(12,12))\n",
        "\n",
        "plt.barh(uzunsoluklu.Language,uzunsoluklu.Runtime,\n",
        "        color=\"#f05131\",label=\"Runtime\")\n",
        "\n",
        "plt.ylabel(\"Language\")\n",
        "plt.xlabel(\"Runtime\")\n",
        "plt.legend()\n",
        "plt.title(\"uzun soluklu filmler hangi dilde:\")\n",
        "plt.show()"
      ],
      "metadata": {
        "execution": {
          "iopub.status.busy": "2022-07-23T06:29:04.170629Z",
          "iopub.execute_input": "2022-07-23T06:29:04.171415Z",
          "iopub.status.idle": "2022-07-23T06:29:04.550486Z",
          "shell.execute_reply.started": "2022-07-23T06:29:04.171379Z",
          "shell.execute_reply": "2022-07-23T06:29:04.549488Z"
        },
        "trusted": true,
        "colab": {
          "base_uri": "https://localhost:8080/",
          "height": 730
        },
        "id": "zcumjUp_fgUh",
        "outputId": "79b0e090-bbed-43d6-a1c8-bff5dd0971ea"
      },
      "execution_count": 17,
      "outputs": [
        {
          "output_type": "display_data",
          "data": {
            "text/plain": [
              "<Figure size 864x864 with 1 Axes>"
            ],
            "image/png": "[encoded data removed]"
          },
          "metadata": {
            "needs_background": "light"
          }
        }
      ]
    },
    {
      "cell_type": "markdown",
      "source": [
        "2019 Ocak ile 2020 Haziran tarihleri arasında 'Documentary' türünde çekilmiş filmlerin IMDB değerlerini bulup görselleştiriniz."
      ],
      "metadata": {
        "id": "cBYVkS0hfgUl"
      }
    },
    {
      "cell_type": "code",
      "source": [
        "import datetime as dt"
      ],
      "metadata": {
        "execution": {
          "iopub.status.busy": "2022-07-23T06:29:04.551968Z",
          "iopub.execute_input": "2022-07-23T06:29:04.552444Z",
          "iopub.status.idle": "2022-07-23T06:29:04.556517Z",
          "shell.execute_reply.started": "2022-07-23T06:29:04.552414Z",
          "shell.execute_reply": "2022-07-23T06:29:04.555600Z"
        },
        "trusted": true,
        "id": "mEn-hm_NfgUn"
      },
      "execution_count": 18,
      "outputs": []
    },
    {
      "cell_type": "code",
      "source": [
        "# premiere tarih değişkenidir türünü düzeltiyorum:\n",
        "for col in df.columns:\n",
        "    if \"Premiere\" in col:\n",
        "        df[col] = df[col].apply(pd.to_datetime)"
      ],
      "metadata": {
        "execution": {
          "iopub.status.busy": "2022-07-23T06:29:04.557730Z",
          "iopub.execute_input": "2022-07-23T06:29:04.558000Z",
          "iopub.status.idle": "2022-07-23T06:29:04.740169Z",
          "shell.execute_reply.started": "2022-07-23T06:29:04.557974Z",
          "shell.execute_reply": "2022-07-23T06:29:04.739139Z"
        },
        "trusted": true,
        "id": "qZ0HGiYXfgUo"
      },
      "execution_count": 19,
      "outputs": []
    },
    {
      "cell_type": "code",
      "source": [
        "documentary_19_20 = df.loc[(df[\"Premiere\"] > \"2019-01-31\") & (df[\"Premiere\"] < \"2020-06-01\") & (df[\"Genre\"] == \"Documentary\")].sort_values(by=\"Premiere\", ascending=False)"
      ],
      "metadata": {
        "execution": {
          "iopub.status.busy": "2022-07-23T06:29:04.741513Z",
          "iopub.execute_input": "2022-07-23T06:29:04.741925Z",
          "iopub.status.idle": "2022-07-23T06:29:04.754761Z",
          "shell.execute_reply.started": "2022-07-23T06:29:04.741887Z",
          "shell.execute_reply": "2022-07-23T06:29:04.753204Z"
        },
        "trusted": true,
        "id": "DuP_yMDafgUs"
      },
      "execution_count": 20,
      "outputs": []
    },
    {
      "cell_type": "code",
      "source": [
        "print(documentary_19_20)"
      ],
      "metadata": {
        "execution": {
          "iopub.status.busy": "2022-07-23T06:29:04.756807Z",
          "iopub.execute_input": "2022-07-23T06:29:04.757137Z",
          "iopub.status.idle": "2022-07-23T06:29:04.778098Z",
          "shell.execute_reply.started": "2022-07-23T06:29:04.757108Z",
          "shell.execute_reply": "2022-07-23T06:29:04.776213Z"
        },
        "trusted": true,
        "colab": {
          "base_uri": "https://localhost:8080/"
        },
        "id": "AkK2bNlbfgUt",
        "outputId": "51b7837d-1290-4478-e8aa-91278ffb667b"
      },
      "execution_count": 21,
      "outputs": [
        {
          "output_type": "stream",
          "name": "stdout",
          "text": [
            "                                                 Title        Genre   Premiere  Runtime  IMDB_Score          Language\n",
            "401       Have a Good Trip: Adventures in Psychedelics  Documentary 2020-05-11       85         6.8           English\n",
            "396                                           Becoming  Documentary 2020-05-06       89         6.8           English\n",
            "563                                      A Secret Love  Documentary 2020-04-29       82         7.9           English\n",
            "303           Murder to Mercy: The Cyntoia Brown Story  Documentary 2020-04-29       97         6.4           English\n",
            "455                                    Circus of Books  Documentary 2020-04-22       92         7.1           English\n",
            "484                                       LA Originals  Documentary 2020-04-10       92         7.2           English\n",
            "555                 Crip Camp: A Disability Revolution  Documentary 2020-03-25      108         7.7           English\n",
            "392      A Life of Speed: The Juan Manuel Fangio Story  Documentary 2020-03-20       92         6.8           Spanish\n",
            "523                                     Miss Americana  Documentary 2020-01-31       85         7.4           English\n",
            "458                            El Pepe: A Supreme Life  Documentary 2019-12-27       73         7.1           Spanish\n",
            "15                                      After the Raid  Documentary 2019-12-19       25         4.3           Spanish\n",
            "436                         Lorena, Light-Footed Woman  Documentary 2019-11-20       28         7.0           Spanish\n",
            "367                       Bikram: Yogi, Guru, Predator  Documentary 2019-11-20       86         6.7           English\n",
            "521                                   Fire in Paradise  Documentary 2019-11-01       39         7.4           English\n",
            "320                                     A 3 Minute Hug  Documentary 2019-10-28       28         6.5   English/Spanish\n",
            "378                                   Little Miss Sumo  Documentary 2019-10-28       19         6.7          Japanese\n",
            "353                                 It Takes a Lunatic  Documentary 2019-10-25      126         6.6           English\n",
            "577                             Dancing with the Birds  Documentary 2019-10-23       51         8.3           English\n",
            "546                                   Tell Me Who I Am  Documentary 2019-10-18       85         7.6           English\n",
            "111                               Ghosts of Sugar Land  Documentary 2019-10-16       21         5.5           English\n",
            "295                                            Birders  Documentary 2019-09-25       37         6.4   English/Spanish\n",
            "437              Los Tigres del Norte at Folsom Prison  Documentary 2019-09-15       64         7.0           Spanish\n",
            "20                   Hello Privilege. It's Me, Chelsea  Documentary 2019-09-13       64         4.4           English\n",
            "460                                             Evelyn  Documentary 2019-09-10       96         7.1           English\n",
            "290                   Travis Scott: Look Mom I Can Fly  Documentary 2019-08-28       85         6.3           English\n",
            "520                                   American Factory  Documentary 2019-08-21      110         7.4           English\n",
            "0                                      Enter the Anime  Documentary 2019-08-05       58         2.5  English/Japanese\n",
            "476                                     The Great Hack  Documentary 2019-07-24      114         7.1           English\n",
            "384                           Parchis: The Documentary  Documentary 2019-07-10      106         6.7           Spanish\n",
            "494                              The Edge of Democracy  Documentary 2019-06-19      121         7.2        Portuguese\n",
            "334                                  Life Overtakes Me  Documentary 2019-06-14       40         6.5   English/Swedish\n",
            "545  Rolling Thunder Revue: A bob Dylan Story by Ma...  Documentary 2019-06-12      144         7.6           English\n",
            "527                                The Black Godfather  Documentary 2019-06-07      118         7.4           English\n",
            "30                                         After Maria  Documentary 2019-05-24       37         4.6   English/Spanish\n",
            "263                             A Tale of Two Kitchens  Documentary 2019-05-22       30         6.3   English/Spanish\n",
            "443                       ReMastered: The Lion's Share  Documentary 2019-05-17       84         7.0           English\n",
            "394                                   All in My Family  Documentary 2019-05-03       39         6.8  English/Mandarin\n",
            "466                               Knock Down the House  Documentary 2019-05-01       87         7.1           English\n",
            "442                ReMastered: Devil at the Crossroads  Documentary 2019-04-26       48         7.0           English\n",
            "462                                   Grass Is Greener  Documentary 2019-04-20       97         7.1           English\n",
            "554                   Brene Brown: The Call to Courage  Documentary 2019-04-19       76         7.7           English\n",
            "536                     Homecoming: A Film by Beyonce   Documentary 2019-04-17      137         7.5           English\n",
            "286                       The Legend of Cocaine Island  Documentary 2019-03-29       87         6.3           English\n",
            "444            ReMastered: The Miami Showband Massacre  Documentary 2019-03-22       70         7.0           English\n",
            "324          Antoine Griezmann: The Making of a Legend  Documentary 2019-03-21       60         6.5            French\n",
            "524                           Period. End of Sentence.  Documentary 2019-02-12       26         7.4     English/Hindi\n",
            "511          ReMastered: The Two Killings of Sam Cooke  Documentary 2019-02-08       64         7.3           English\n"
          ]
        }
      ]
    },
    {
      "cell_type": "code",
      "source": [
        "f=plt.figure(figsize=(12,12))\n",
        "\n",
        "plt.barh(documentary_19_20.Title,documentary_19_20.IMDB_Score,\n",
        "        color=\"#f05131\",label=\"IMDB_Score\")\n",
        "\n",
        "plt.ylabel(\"Title\")\n",
        "plt.xlabel(\"IMDB_Score\")\n",
        "plt.legend()\n",
        "plt.title(\"2019 Ocak ile 2020 Haziran tarihleri arasında 'Documentary' türünde çekilmiş filmlerin IMDB değerleri\")\n",
        "plt.show()"
      ],
      "metadata": {
        "execution": {
          "iopub.status.busy": "2022-07-23T06:29:04.784997Z",
          "iopub.execute_input": "2022-07-23T06:29:04.785429Z",
          "iopub.status.idle": "2022-07-23T06:29:05.354831Z",
          "shell.execute_reply.started": "2022-07-23T06:29:04.785399Z",
          "shell.execute_reply": "2022-07-23T06:29:05.352759Z"
        },
        "trusted": true,
        "colab": {
          "base_uri": "https://localhost:8080/",
          "height": 633
        },
        "id": "sHnrNmWSfgUu",
        "outputId": "97a72ac7-7934-4eeb-e0cd-5880194d138a"
      },
      "execution_count": 22,
      "outputs": [
        {
          "output_type": "display_data",
          "data": {
            "text/plain": [
              "<Figure size 864x864 with 1 Axes>"
            ],
            "image/png": "[encoded data removed]"
          },
          "metadata": {
            "needs_background": "light"
          }
        }
      ]
    },
    {
      "cell_type": "markdown",
      "source": [
        "İngilizce çekilen filmler içerisinde hangi tür en yüksek IMDB puanına sahiptir?"
      ],
      "metadata": {
        "id": "wq8BL6h0fgUv"
      }
    },
    {
      "cell_type": "code",
      "source": [
        "def english_imdb(dataframe):\n",
        "    dataframe = dataframe.loc[(dataframe[\"Language\"] == \"English\")].sort_values(by=\"IMDB_Score\", ascending=False)\n",
        "    return(dataframe[\"Genre\"][0:1])\n",
        "english_imdb(df)"
      ],
      "metadata": {
        "execution": {
          "iopub.status.busy": "2022-07-23T06:29:05.356782Z",
          "iopub.execute_input": "2022-07-23T06:29:05.358004Z",
          "iopub.status.idle": "2022-07-23T06:29:05.372210Z",
          "shell.execute_reply.started": "2022-07-23T06:29:05.357964Z",
          "shell.execute_reply": "2022-07-23T06:29:05.370693Z"
        },
        "trusted": true,
        "colab": {
          "base_uri": "https://localhost:8080/"
        },
        "id": "hIg-6lgVfgUw",
        "outputId": "c3f54c69-bc19-4cf0-f56d-4a5a0341c0c1"
      },
      "execution_count": 23,
      "outputs": [
        {
          "output_type": "execute_result",
          "data": {
            "text/plain": [
              "583    Documentary\n",
              "Name: Genre, dtype: object"
            ]
          },
          "metadata": {},
          "execution_count": 23
        }
      ]
    },
    {
      "cell_type": "markdown",
      "source": [
        "'Hindi' Dilinde çekilmiş olan filmlerin ortalama 'runtime' suresi nedir?"
      ],
      "metadata": {
        "id": "WJDcEFikfgUx"
      }
    },
    {
      "cell_type": "code",
      "source": [
        "df.loc[(df[\"Language\"] == \"Hindi\")].agg({\"Runtime\": \"mean\"})"
      ],
      "metadata": {
        "execution": {
          "iopub.status.busy": "2022-07-23T06:29:05.373966Z",
          "iopub.execute_input": "2022-07-23T06:29:05.374352Z",
          "iopub.status.idle": "2022-07-23T06:29:05.390013Z",
          "shell.execute_reply.started": "2022-07-23T06:29:05.374293Z",
          "shell.execute_reply": "2022-07-23T06:29:05.388685Z"
        },
        "trusted": true,
        "colab": {
          "base_uri": "https://localhost:8080/"
        },
        "id": "WwfqRCTQfgUz",
        "outputId": "55df2635-a97c-4df2-93f4-cfc927859da4"
      },
      "execution_count": 24,
      "outputs": [
        {
          "output_type": "execute_result",
          "data": {
            "text/plain": [
              "Runtime    115.787879\n",
              "dtype: float64"
            ]
          },
          "metadata": {},
          "execution_count": 24
        }
      ]
    },
    {
      "cell_type": "markdown",
      "source": [
        "'Genre' Sütunu kaç kategoriye sahiptir ve bu kategoriler nelerdir? Görselleştirerek ifade ediniz."
      ],
      "metadata": {
        "id": "MHKbN5lOfgU1"
      }
    },
    {
      "cell_type": "code",
      "source": [
        "# kaç kategori:\n",
        "df[\"Genre\"].nunique() "
      ],
      "metadata": {
        "execution": {
          "iopub.status.busy": "2022-07-23T06:29:05.391461Z",
          "iopub.execute_input": "2022-07-23T06:29:05.391949Z",
          "iopub.status.idle": "2022-07-23T06:29:05.400601Z",
          "shell.execute_reply.started": "2022-07-23T06:29:05.391918Z",
          "shell.execute_reply": "2022-07-23T06:29:05.399809Z"
        },
        "trusted": true,
        "colab": {
          "base_uri": "https://localhost:8080/"
        },
        "id": "OJomoh4XfgU2",
        "outputId": "2443c21b-f4d6-4e64-9738-2f5cee5658cc"
      },
      "execution_count": 25,
      "outputs": [
        {
          "output_type": "execute_result",
          "data": {
            "text/plain": [
              "115"
            ]
          },
          "metadata": {},
          "execution_count": 25
        }
      ]
    },
    {
      "cell_type": "code",
      "source": [
        "# bu kategoriler:\n",
        "print(df[\"Genre\"].value_counts())"
      ],
      "metadata": {
        "execution": {
          "iopub.status.busy": "2022-07-23T06:29:05.401880Z",
          "iopub.execute_input": "2022-07-23T06:29:05.402577Z",
          "iopub.status.idle": "2022-07-23T06:29:05.416776Z",
          "shell.execute_reply.started": "2022-07-23T06:29:05.402539Z",
          "shell.execute_reply": "2022-07-23T06:29:05.415821Z"
        },
        "trusted": true,
        "colab": {
          "base_uri": "https://localhost:8080/"
        },
        "id": "vi1kd23jfgU3",
        "outputId": "126d2a45-495a-4855-9c7a-af1d4815c23b"
      },
      "execution_count": 26,
      "outputs": [
        {
          "output_type": "stream",
          "name": "stdout",
          "text": [
            "Documentary                             159\n",
            "Drama                                    77\n",
            "Comedy                                   49\n",
            "Romantic comedy                          39\n",
            "Thriller                                 33\n",
            "Comedy-drama                             14\n",
            "Crime drama                              11\n",
            "Biopic                                    9\n",
            "Horror                                    9\n",
            "Action                                    7\n",
            "Romance                                   6\n",
            "Concert Film                              6\n",
            "Aftershow / Interview                     6\n",
            "Animation                                 5\n",
            "Action comedy                             5\n",
            "Romantic drama                            5\n",
            "Psychological thriller                    4\n",
            "Science fiction/Thriller                  4\n",
            "Variety show                              4\n",
            "Science fiction                           4\n",
            "Animation / Short                         4\n",
            "Action-thriller                           3\n",
            "Sports-drama                              3\n",
            "One-man show                              3\n",
            "Horror thriller                           3\n",
            "Western                                   3\n",
            "Science fiction/Drama                     3\n",
            "Dark comedy                               2\n",
            "Satire                                    2\n",
            "War drama                                 2\n",
            "Family                                    2\n",
            "Spy thriller                              2\n",
            "Anime/Science fiction                     2\n",
            "Mystery                                   2\n",
            "Black comedy                              2\n",
            "Musical comedy                            2\n",
            "Comedy / Musical                          2\n",
            "Musical                                   2\n",
            "Family film                               2\n",
            "Making-of                                 2\n",
            "Superhero                                 2\n",
            "Adventure                                 2\n",
            "Horror-thriller                           2\n",
            "War                                       2\n",
            "Mockumentary                              2\n",
            "Teen comedy horror                        1\n",
            "Family/Christmas musical                  1\n",
            "Science fiction/Action                    1\n",
            "Animation/Musical/Adventure               1\n",
            "Animation / Musicial                      1\n",
            "Animation/Comedy/Adventure                1\n",
            "Crime thriller                            1\n",
            "Action thriller                           1\n",
            "Family/Comedy-drama                       1\n",
            "Teen comedy-drama                         1\n",
            "Science fiction thriller                  1\n",
            "Christmas/Fantasy/Adventure/Comedy        1\n",
            "Musical / Short                           1\n",
            "Anthology/Dark comedy                     1\n",
            "Animation / Science Fiction               1\n",
            "Action-adventure                          1\n",
            "Historical drama                          1\n",
            "Coming-of-age comedy-drama                1\n",
            "Drama-Comedy                              1\n",
            "Mentalism special                         1\n",
            "Animation / Comedy                        1\n",
            "Drama / Short                             1\n",
            "Historical-epic                           1\n",
            "Biographical/Comedy                       1\n",
            "Superhero/Action                          1\n",
            "Variety Show                              1\n",
            "Animated musical comedy                   1\n",
            "Anime/Fantasy                             1\n",
            "Urban fantasy                             1\n",
            "Hidden-camera prank comedy                1\n",
            "Drama/Horror                              1\n",
            "Romantic comedy/Holiday                   1\n",
            "Horror/Crime drama                        1\n",
            "Action/Science fiction                    1\n",
            "Horror comedy                             1\n",
            "Superhero-Comedy                          1\n",
            "Adventure/Comedy                          1\n",
            "Psychological thriller drama              1\n",
            "Romance drama                             1\n",
            "Science fiction/Mystery                   1\n",
            "Romantic teenage drama                    1\n",
            "Action/Comedy                             1\n",
            "Stop Motion                               1\n",
            "Supernatural drama                        1\n",
            "Comedy/Fantasy/Family                     1\n",
            "Anime / Short                             1\n",
            "Heist                                     1\n",
            "Science fiction adventure                 1\n",
            "Christmas musical                         1\n",
            "Animation/Superhero                       1\n",
            "Christian musical                         1\n",
            "Romantic teen drama                       1\n",
            "Comedy horror                             1\n",
            "Political thriller                        1\n",
            "Dance comedy                              1\n",
            "Adventure-romance                         1\n",
            "War-Comedy                                1\n",
            "Christmas comedy                          1\n",
            "Romantic thriller                         1\n",
            "Comedy mystery                            1\n",
            "Sports film                               1\n",
            "Psychological horror                      1\n",
            "Zombie/Heist                              1\n",
            "Fantasy                                   1\n",
            "Comedy/Horror                             1\n",
            "Romantic comedy-drama                     1\n",
            "Heist film/Thriller                       1\n",
            "Musical/Western/Fantasy                   1\n",
            "Horror anthology                          1\n",
            "Animation/Christmas/Comedy/Adventure      1\n",
            "Name: Genre, dtype: int64\n"
          ]
        }
      ]
    },
    {
      "cell_type": "markdown",
      "source": [
        "Veri setinde bulunan filmlerde en çok kullanılan 3 dili bulunuz."
      ],
      "metadata": {
        "id": "T8jM5haOfgU4"
      }
    },
    {
      "cell_type": "code",
      "source": [
        "df[\"Language\"].value_counts(sort=True)[0:3]"
      ],
      "metadata": {
        "execution": {
          "iopub.status.busy": "2022-07-23T06:29:05.418086Z",
          "iopub.execute_input": "2022-07-23T06:29:05.419544Z",
          "iopub.status.idle": "2022-07-23T06:29:05.432298Z",
          "shell.execute_reply.started": "2022-07-23T06:29:05.419426Z",
          "shell.execute_reply": "2022-07-23T06:29:05.431582Z"
        },
        "trusted": true,
        "colab": {
          "base_uri": "https://localhost:8080/"
        },
        "id": "VIvRxWLmfgU9",
        "outputId": "3b744fc3-ff18-48fb-bb8e-ce55bab41cc3"
      },
      "execution_count": 27,
      "outputs": [
        {
          "output_type": "execute_result",
          "data": {
            "text/plain": [
              "English    401\n",
              "Hindi       33\n",
              "Spanish     31\n",
              "Name: Language, dtype: int64"
            ]
          },
          "metadata": {},
          "execution_count": 27
        }
      ]
    },
    {
      "cell_type": "markdown",
      "source": [
        "IMDB puanı en yüksek olan ilk 10 film hangileridir?"
      ],
      "metadata": {
        "id": "Pizhl_m5fgU-"
      }
    },
    {
      "cell_type": "code",
      "source": [
        "df.sort_values(by=\"IMDB_Score\", ascending=False).head(10)"
      ],
      "metadata": {
        "execution": {
          "iopub.status.busy": "2022-07-23T06:29:05.434228Z",
          "iopub.execute_input": "2022-07-23T06:29:05.435975Z",
          "iopub.status.idle": "2022-07-23T06:29:05.453847Z",
          "shell.execute_reply.started": "2022-07-23T06:29:05.435930Z",
          "shell.execute_reply": "2022-07-23T06:29:05.453190Z"
        },
        "trusted": true,
        "colab": {
          "base_uri": "https://localhost:8080/",
          "height": 667
        },
        "id": "xyXmyLf9fgU_",
        "outputId": "fb073c51-9cbb-4d9d-8406-ca4f9226e0a5"
      },
      "execution_count": 28,
      "outputs": [
        {
          "output_type": "execute_result",
          "data": {
            "text/plain": [
              "                                           Title                                 Genre   Premiere  Runtime  IMDB_Score                  Language\n",
              "583     David Attenborough: A Life on Our Planet                           Documentary 2020-10-04       83         9.0                   English\n",
              "582    Emicida: AmarElo - It's All For Yesterday                           Documentary 2020-12-08       89         8.6                Portuguese\n",
              "581                      Springsteen on Broadway                          One-man show 2018-12-16      153         8.5                   English\n",
              "580  Winter on Fire: Ukraine's Fight for Freedom                           Documentary 2015-10-09       91         8.4  English/Ukranian/Russian\n",
              "579        Taylor Swift: Reputation Stadium Tour                          Concert Film 2018-12-31      125         8.4                   English\n",
              "578   Ben Platt: Live from Radio City Music Hall                          Concert Film 2020-05-20       85         8.4                   English\n",
              "577                       Dancing with the Birds                           Documentary 2019-10-23       51         8.3                   English\n",
              "576                      Cuba and the Cameraman                            Documentary 2017-11-24      114         8.3                   English\n",
              "573                                        Klaus  Animation/Christmas/Comedy/Adventure 2019-11-15       97         8.2                   English\n",
              "571                                         13th                           Documentary 2016-10-07      100         8.2                   English"
            ],
            "text/html": [
              "\n",
              "  <div id=\"df-a5c2b34a-fb91-4ce3-ab7b-97e103ccae30\">\n",
              "    <div class=\"colab-df-container\">\n",
              "      <div>\n",
              "<style scoped>\n",
              "    .dataframe tbody tr th:only-of-type {\n",
              "        vertical-align: middle;\n",
              "    }\n",
              "\n",
              "    .dataframe tbody tr th {\n",
              "        vertical-align: top;\n",
              "    }\n",
              "\n",
              "    .dataframe thead th {\n",
              "        text-align: right;\n",
              "    }\n",
              "</style>\n",
              "<table border=\"1\" class=\"dataframe\">\n",
              "  <thead>\n",
              "    <tr style=\"text-align: right;\">\n",
              "      <th></th>\n",
              "      <th>Title</th>\n",
              "      <th>Genre</th>\n",
              "      <th>Premiere</th>\n",
              "      <th>Runtime</th>\n",
              "      <th>IMDB_Score</th>\n",
              "      <th>Language</th>\n",
              "    </tr>\n",
              "  </thead>\n",
              "  <tbody>\n",
              "    <tr>\n",
              "      <th>583</th>\n",
              "      <td>David Attenborough: A Life on Our Planet</td>\n",
              "      <td>Documentary</td>\n",
              "      <td>2020-10-04</td>\n",
              "      <td>83</td>\n",
              "      <td>9.0</td>\n",
              "      <td>English</td>\n",
              "    </tr>\n",
              "    <tr>\n",
              "      <th>582</th>\n",
              "      <td>Emicida: AmarElo - It's All For Yesterday</td>\n",
              "      <td>Documentary</td>\n",
              "      <td>2020-12-08</td>\n",
              "      <td>89</td>\n",
              "      <td>8.6</td>\n",
              "      <td>Portuguese</td>\n",
              "    </tr>\n",
              "    <tr>\n",
              "      <th>581</th>\n",
              "      <td>Springsteen on Broadway</td>\n",
              "      <td>One-man show</td>\n",
              "      <td>2018-12-16</td>\n",
              "      <td>153</td>\n",
              "      <td>8.5</td>\n",
              "      <td>English</td>\n",
              "    </tr>\n",
              "    <tr>\n",
              "      <th>580</th>\n",
              "      <td>Winter on Fire: Ukraine's Fight for Freedom</td>\n",
              "      <td>Documentary</td>\n",
              "      <td>2015-10-09</td>\n",
              "      <td>91</td>\n",
              "      <td>8.4</td>\n",
              "      <td>English/Ukranian/Russian</td>\n",
              "    </tr>\n",
              "    <tr>\n",
              "      <th>579</th>\n",
              "      <td>Taylor Swift: Reputation Stadium Tour</td>\n",
              "      <td>Concert Film</td>\n",
              "      <td>2018-12-31</td>\n",
              "      <td>125</td>\n",
              "      <td>8.4</td>\n",
              "      <td>English</td>\n",
              "    </tr>\n",
              "    <tr>\n",
              "      <th>578</th>\n",
              "      <td>Ben Platt: Live from Radio City Music Hall</td>\n",
              "      <td>Concert Film</td>\n",
              "      <td>2020-05-20</td>\n",
              "      <td>85</td>\n",
              "      <td>8.4</td>\n",
              "      <td>English</td>\n",
              "    </tr>\n",
              "    <tr>\n",
              "      <th>577</th>\n",
              "      <td>Dancing with the Birds</td>\n",
              "      <td>Documentary</td>\n",
              "      <td>2019-10-23</td>\n",
              "      <td>51</td>\n",
              "      <td>8.3</td>\n",
              "      <td>English</td>\n",
              "    </tr>\n",
              "    <tr>\n",
              "      <th>576</th>\n",
              "      <td>Cuba and the Cameraman</td>\n",
              "      <td>Documentary</td>\n",
              "      <td>2017-11-24</td>\n",
              "      <td>114</td>\n",
              "      <td>8.3</td>\n",
              "      <td>English</td>\n",
              "    </tr>\n",
              "    <tr>\n",
              "      <th>573</th>\n",
              "      <td>Klaus</td>\n",
              "      <td>Animation/Christmas/Comedy/Adventure</td>\n",
              "      <td>2019-11-15</td>\n",
              "      <td>97</td>\n",
              "      <td>8.2</td>\n",
              "      <td>English</td>\n",
              "    </tr>\n",
              "    <tr>\n",
              "      <th>571</th>\n",
              "      <td>13th</td>\n",
              "      <td>Documentary</td>\n",
              "      <td>2016-10-07</td>\n",
              "      <td>100</td>\n",
              "      <td>8.2</td>\n",
              "      <td>English</td>\n",
              "    </tr>\n",
              "  </tbody>\n",
              "</table>\n",
              "</div>\n",
              "      <button class=\"colab-df-convert\" onclick=\"convertToInteractive('df-a5c2b34a-fb91-4ce3-ab7b-97e103ccae30')\"\n",
              "              title=\"Convert this dataframe to an interactive table.\"\n",
              "              style=\"display:none;\">\n",
              "        \n",
              "  <svg xmlns=\"http://www.w3.org/2000/svg\" height=\"24px\"viewBox=\"0 0 24 24\"\n",
              "       width=\"24px\">\n",
              "    <path d=\"M0 0h24v24H0V0z\" fill=\"none\"/>\n",
              "    <path d=\"M18.56 5.44l.94 2.06.94-2.06 2.06-.94-2.06-.94-.94-2.06-.94 2.06-2.06.94zm-11 1L8.5 8.5l.94-2.06 2.06-.94-2.06-.94L8.5 2.5l-.94 2.06-2.06.94zm10 10l.94 2.06.94-2.06 2.06-.94-2.06-.94-.94-2.06-.94 2.06-2.06.94z\"/><path d=\"M17.41 7.96l-1.37-1.37c-.4-.4-.92-.59-1.43-.59-.52 0-1.04.2-1.43.59L10.3 9.45l-7.72 7.72c-.78.78-.78 2.05 0 2.83L4 21.41c.39.39.9.59 1.41.59.51 0 1.02-.2 1.41-.59l7.78-7.78 2.81-2.81c.8-.78.8-2.07 0-2.86zM5.41 20L4 18.59l7.72-7.72 1.47 1.35L5.41 20z\"/>\n",
              "  </svg>\n",
              "      </button>\n",
              "      \n",
              "  <style>\n",
              "    .colab-df-container {\n",
              "      display:flex;\n",
              "      flex-wrap:wrap;\n",
              "      gap: 12px;\n",
              "    }\n",
              "\n",
              "    .colab-df-convert {\n",
              "      background-color: #E8F0FE;\n",
              "      border: none;\n",
              "      border-radius: 50%;\n",
              "      cursor: pointer;\n",
              "      display: none;\n",
              "      fill: #1967D2;\n",
              "      height: 32px;\n",
              "      padding: 0 0 0 0;\n",
              "      width: 32px;\n",
              "    }\n",
              "\n",
              "    .colab-df-convert:hover {\n",
              "      background-color: #E2EBFA;\n",
              "      box-shadow: 0px 1px 2px rgba(60, 64, 67, 0.3), 0px 1px 3px 1px rgba(60, 64, 67, 0.15);\n",
              "      fill: #174EA6;\n",
              "    }\n",
              "\n",
              "    [theme=dark] .colab-df-convert {\n",
              "      background-color: #3B4455;\n",
              "      fill: #D2E3FC;\n",
              "    }\n",
              "\n",
              "    [theme=dark] .colab-df-convert:hover {\n",
              "      background-color: #434B5C;\n",
              "      box-shadow: 0px 1px 3px 1px rgba(0, 0, 0, 0.15);\n",
              "      filter: drop-shadow(0px 1px 2px rgba(0, 0, 0, 0.3));\n",
              "      fill: #FFFFFF;\n",
              "    }\n",
              "  </style>\n",
              "\n",
              "      <script>\n",
              "        const buttonEl =\n",
              "          document.querySelector('#df-a5c2b34a-fb91-4ce3-ab7b-97e103ccae30 button.colab-df-convert');\n",
              "        buttonEl.style.display =\n",
              "          google.colab.kernel.accessAllowed ? 'block' : 'none';\n",
              "\n",
              "        async function convertToInteractive(key) {\n",
              "          const element = document.querySelector('#df-a5c2b34a-fb91-4ce3-ab7b-97e103ccae30');\n",
              "          const dataTable =\n",
              "            await google.colab.kernel.invokeFunction('convertToInteractive',\n",
              "                                                     [key], {});\n",
              "          if (!dataTable) return;\n",
              "\n",
              "          const docLinkHtml = 'Like what you see? Visit the ' +\n",
              "            '<a target=\"_blank\" href=https://colab.research.google.com/notebooks/data_table.ipynb>data table notebook</a>'\n",
              "            + ' to learn more about interactive tables.';\n",
              "          element.innerHTML = '';\n",
              "          dataTable['output_type'] = 'display_data';\n",
              "          await google.colab.output.renderOutput(dataTable, element);\n",
              "          const docLink = document.createElement('div');\n",
              "          docLink.innerHTML = docLinkHtml;\n",
              "          element.appendChild(docLink);\n",
              "        }\n",
              "      </script>\n",
              "    </div>\n",
              "  </div>\n",
              "  "
            ]
          },
          "metadata": {},
          "execution_count": 28
        }
      ]
    },
    {
      "cell_type": "markdown",
      "source": [
        "IMDB puanı ile 'Runtime' arasında nasıl bir korelasyon vardır? İnceleyip görselleştiriniz."
      ],
      "metadata": {
        "id": "1CYfGcrgfgVA"
      }
    },
    {
      "cell_type": "code",
      "source": [
        "def correlation_matrix(df, cols):\n",
        "    fig = plt.gcf()\n",
        "    fig.set_size_inches(10, 8)\n",
        "    plt.xticks(fontsize=10)\n",
        "    plt.yticks(fontsize=10)\n",
        "    fig = sns.heatmap(df[cols].corr(), annot=True, linewidths=0.5, annot_kws={'size': 12}, linecolor='w', cmap='RdBu')\n",
        "    plt.show(block=True)"
      ],
      "metadata": {
        "execution": {
          "iopub.status.busy": "2022-07-23T06:29:05.454719Z",
          "iopub.execute_input": "2022-07-23T06:29:05.455420Z",
          "iopub.status.idle": "2022-07-23T06:29:05.459985Z",
          "shell.execute_reply.started": "2022-07-23T06:29:05.455393Z",
          "shell.execute_reply": "2022-07-23T06:29:05.459330Z"
        },
        "trusted": true,
        "id": "ZyOO8poHfgVA"
      },
      "execution_count": 29,
      "outputs": []
    },
    {
      "cell_type": "code",
      "source": [
        "# kategorik, numerik, numerik görünümlü kategorik ve kategorik ama kardinal değişkenleri düzenleme\n",
        "def grab_col_names(dataframe, cat_th=10, car_th=20):\n",
        "    \"\"\"\n",
        "\n",
        "    Veri setindeki kategorik, numerik ve kategorik fakat kardinal değişkenlerin isimlerini verir.\n",
        "    Not: Kategorik değişkenlerin içerisine numerik görünümlü kategorik değişkenler de dahildir.\n",
        "\n",
        "    Parameters\n",
        "    ------\n",
        "        dataframe: dataframe\n",
        "                Değişken isimleri alınmak istenilen dataframe\n",
        "        cat_th: int, optional\n",
        "                numerik fakat kategorik olan değişkenler için sınıf eşik değeri\n",
        "        car_th: int, optinal\n",
        "                kategorik fakat kardinal değişkenler için sınıf eşik değeri\n",
        "\n",
        "    Returns\n",
        "    ------\n",
        "        cat_cols: list\n",
        "                Kategorik değişken listesi\n",
        "        num_cols: list\n",
        "                Numerik değişken listesi\n",
        "        cat_but_car: list\n",
        "                Kategorik görünümlü kardinal değişken listesi\n",
        "\n",
        "    Examples\n",
        "    ------\n",
        "        import seaborn as sns\n",
        "        df = sns.load_dataset(\"iris\")\n",
        "        print(grab_col_names(df))\n",
        "\n",
        "\n",
        "    Notes\n",
        "    ------\n",
        "        cat_cols + num_cols + cat_but_car = toplam değişken sayısı\n",
        "        num_but_cat cat_cols'un içerisinde.\n",
        "        Return olan 3 liste toplamı toplam değişken sayısına eşittir: cat_cols + num_cols + cat_but_car = değişken sayısı\n",
        "\n",
        "    \"\"\"\n",
        "\n",
        "    # cat_cols, cat_but_car\n",
        "    cat_cols = [col for col in dataframe.columns if dataframe[col].dtypes == \"O\"]\n",
        "    num_but_cat = [col for col in dataframe.columns if dataframe[col].nunique() < cat_th and\n",
        "                   dataframe[col].dtypes != \"O\"]\n",
        "    cat_but_car = [col for col in dataframe.columns if dataframe[col].nunique() > car_th and\n",
        "                   dataframe[col].dtypes == \"O\"]\n",
        "    cat_cols = cat_cols + num_but_cat\n",
        "    cat_cols = [col for col in cat_cols if col not in cat_but_car]\n",
        "\n",
        "    # num_cols\n",
        "    num_cols = [col for col in dataframe.columns if dataframe[col].dtypes != \"O\" and dataframe[col].dtypes != \"datetime64[ns]\"]\n",
        "    num_cols = [col for col in num_cols if col not in num_but_cat]\n",
        "\n",
        "    return cat_cols, num_cols, cat_but_car\n",
        "\n"
      ],
      "metadata": {
        "execution": {
          "iopub.status.busy": "2022-07-23T06:29:05.461065Z",
          "iopub.execute_input": "2022-07-23T06:29:05.462180Z",
          "iopub.status.idle": "2022-07-23T06:29:05.476027Z",
          "shell.execute_reply.started": "2022-07-23T06:29:05.462143Z",
          "shell.execute_reply": "2022-07-23T06:29:05.475179Z"
        },
        "trusted": true,
        "id": "y_jMTSVffgVB"
      },
      "execution_count": 30,
      "outputs": []
    },
    {
      "cell_type": "code",
      "source": [
        "cat_cols, num_cols, cat_but_car = grab_col_names(df, cat_th=10, car_th=20)"
      ],
      "metadata": {
        "execution": {
          "iopub.status.busy": "2022-07-23T06:29:05.477413Z",
          "iopub.execute_input": "2022-07-23T06:29:05.477792Z",
          "iopub.status.idle": "2022-07-23T06:29:05.501919Z",
          "shell.execute_reply.started": "2022-07-23T06:29:05.477755Z",
          "shell.execute_reply": "2022-07-23T06:29:05.499894Z"
        },
        "trusted": true,
        "id": "nHu-j8U5fgVD"
      },
      "execution_count": 31,
      "outputs": []
    },
    {
      "cell_type": "code",
      "source": [
        "num_cols"
      ],
      "metadata": {
        "execution": {
          "iopub.status.busy": "2022-07-23T06:29:05.505610Z",
          "iopub.execute_input": "2022-07-23T06:29:05.506794Z",
          "iopub.status.idle": "2022-07-23T06:29:05.515015Z",
          "shell.execute_reply.started": "2022-07-23T06:29:05.506724Z",
          "shell.execute_reply": "2022-07-23T06:29:05.514298Z"
        },
        "trusted": true,
        "colab": {
          "base_uri": "https://localhost:8080/"
        },
        "id": "7A2NRaIDfgVE",
        "outputId": "3437b134-49d7-412e-c8df-bc5368026893"
      },
      "execution_count": 32,
      "outputs": [
        {
          "output_type": "execute_result",
          "data": {
            "text/plain": [
              "['Runtime', 'IMDB_Score']"
            ]
          },
          "metadata": {},
          "execution_count": 32
        }
      ]
    },
    {
      "cell_type": "code",
      "source": [
        "# num_colsta bulunan IMDB puanı ile 'Runtime' arasındaki korelasyon matrisi:\n",
        "correlation_matrix(df,num_cols)\n",
        "\n",
        "# Çok güçlü korelasyonlar (0.8 ile 1 veya -0.8 ile -1.0 arası değerler)\n",
        "# Güçlü korelasyonlar (0.6 ile 0.8 veya -0.6 ile -0.8 arası değerler)\n",
        "# Orta derece korelasyonlar (0.4 ile 0.6 veya -0.4 ile -0.6 arası değerler)"
      ],
      "metadata": {
        "execution": {
          "iopub.status.busy": "2022-07-23T06:29:05.516163Z",
          "iopub.execute_input": "2022-07-23T06:29:05.517527Z",
          "iopub.status.idle": "2022-07-23T06:29:05.723612Z",
          "shell.execute_reply.started": "2022-07-23T06:29:05.517502Z",
          "shell.execute_reply": "2022-07-23T06:29:05.722416Z"
        },
        "trusted": true,
        "colab": {
          "base_uri": "https://localhost:8080/",
          "height": 488
        },
        "id": "L8cBWgOGfgVF",
        "outputId": "2e4e566f-0c69-419a-a1c0-340f105f3e04"
      },
      "execution_count": 33,
      "outputs": [
        {
          "output_type": "display_data",
          "data": {
            "text/plain": [
              "<Figure size 720x576 with 2 Axes>"
            ],
            "image/png": "[encoded data removed]"
          },
          "metadata": {
            "needs_background": "light"
          }
        }
      ]
    },
    {
      "cell_type": "markdown",
      "source": [
        "IMDB Puanı en yüksek olan ilk 10 'Genre' hangileridir? Görselleştiriniz."
      ],
      "metadata": {
        "id": "KhLr-ayZfgVH"
      }
    },
    {
      "cell_type": "code",
      "source": [
        "# formül\n",
        "def top10genre_imdb(dataframe):\n",
        "    dataframe= dataframe.groupby(\"Genre\").agg({\"IMDB_Score\": \"max\"}).sort_values(by=\"IMDB_Score\", ascending=False)\n",
        "    return(dataframe.head(10))\n",
        "\n",
        "# görselleştirmede kullanabilmek için:\n",
        "topgenre = top10genre_imdb(df)\n",
        "topgenre.reset_index(inplace=True)\n",
        "\n",
        "# ilk 10 genreyi görelim:\n",
        "print(topgenre)"
      ],
      "metadata": {
        "execution": {
          "iopub.status.busy": "2022-07-23T06:29:05.725408Z",
          "iopub.execute_input": "2022-07-23T06:29:05.725846Z",
          "iopub.status.idle": "2022-07-23T06:29:05.741851Z",
          "shell.execute_reply.started": "2022-07-23T06:29:05.725815Z",
          "shell.execute_reply": "2022-07-23T06:29:05.740475Z"
        },
        "trusted": true,
        "colab": {
          "base_uri": "https://localhost:8080/"
        },
        "id": "WhEfm7k4fgVI",
        "outputId": "df17edb8-6937-420d-9fd3-d593dd62df39"
      },
      "execution_count": 34,
      "outputs": [
        {
          "output_type": "stream",
          "name": "stdout",
          "text": [
            "                                  Genre  IMDB_Score\n",
            "0                           Documentary         9.0\n",
            "1                          One-man show         8.5\n",
            "2                          Concert Film         8.4\n",
            "3  Animation/Christmas/Comedy/Adventure         8.2\n",
            "4                                 Drama         7.9\n",
            "5                     Animation / Short         7.8\n",
            "6                           Crime drama         7.8\n",
            "7                       Musical / Short         7.7\n",
            "8                             Making-of         7.7\n",
            "9                             War drama         7.7\n"
          ]
        }
      ]
    },
    {
      "cell_type": "code",
      "source": [
        "f=plt.figure(figsize=(28,7))\n",
        "\n",
        "plt.bar(topgenre.Genre,topgenre.IMDB_Score,width=0.5,\n",
        "        color=\"#f05131\",label=\"IMDB_Score\")\n",
        "\n",
        "plt.ylabel(\"IMDB_Score\")\n",
        "plt.xlabel(\"Genre\")\n",
        "plt.legend()\n",
        "plt.title(\"IMDB Puanı en yüksek olan ilk 10 'Genre'\")\n",
        "plt.show()"
      ],
      "metadata": {
        "execution": {
          "iopub.status.busy": "2022-07-23T06:29:05.743431Z",
          "iopub.execute_input": "2022-07-23T06:29:05.744605Z",
          "iopub.status.idle": "2022-07-23T06:29:05.951177Z",
          "shell.execute_reply.started": "2022-07-23T06:29:05.744538Z",
          "shell.execute_reply": "2022-07-23T06:29:05.949279Z"
        },
        "trusted": true,
        "colab": {
          "base_uri": "https://localhost:8080/",
          "height": 256
        },
        "id": "0AQPBYPGfgVJ",
        "outputId": "a2932f0e-3b07-4ec7-bac5-8a660b89c612"
      },
      "execution_count": 35,
      "outputs": [
        {
          "output_type": "display_data",
          "data": {
            "text/plain": [
              "<Figure size 2016x504 with 1 Axes>"
            ],
            "image/png": "[encoded data removed]"
          },
          "metadata": {
            "needs_background": "light"
          }
        }
      ]
    },
    {
      "cell_type": "markdown",
      "source": [
        "'Runtime' değeri en yüksek olan ilk 10 film hangileridir? Görselleştiriniz."
      ],
      "metadata": {
        "id": "3szXqKdtfgVK"
      }
    },
    {
      "cell_type": "code",
      "source": [
        "# formül:\n",
        "def runtime_title(dataframe):\n",
        "    dataframe= dataframe.groupby(\"Title\").agg({\"Runtime\": \"max\"}).sort_values(by=\"Runtime\", ascending=False)\n",
        "    runtime = dataframe.head(10)\n",
        "    return(runtime)\n",
        "\n",
        "# görselleştirmede kullanabilmek için:\n",
        "runtimett = runtime_title(df)\n",
        "runtimett.reset_index(inplace=True)\n",
        "\n",
        "# ilk 10 filmi görelim:\n",
        "print(runtimett)"
      ],
      "metadata": {
        "execution": {
          "iopub.status.busy": "2022-07-23T06:29:05.952726Z",
          "iopub.execute_input": "2022-07-23T06:29:05.953012Z",
          "iopub.status.idle": "2022-07-23T06:29:05.964810Z",
          "shell.execute_reply.started": "2022-07-23T06:29:05.952989Z",
          "shell.execute_reply": "2022-07-23T06:29:05.963571Z"
        },
        "trusted": true,
        "colab": {
          "base_uri": "https://localhost:8080/"
        },
        "id": "IdHLKpz0fgVL",
        "outputId": "d19533aa-b91c-4ced-a4f1-9c67e7108c9e"
      },
      "execution_count": 36,
      "outputs": [
        {
          "output_type": "stream",
          "name": "stdout",
          "text": [
            "                             Title  Runtime\n",
            "0                     The Irishman      209\n",
            "1                      Da 5 Bloods      155\n",
            "2          Springsteen on Broadway      153\n",
            "3               The Forest of Love      151\n",
            "4                         Citation      151\n",
            "5                   Raat Akeli Hai      149\n",
            "6  The Last Days of American Crime      149\n",
            "7                             Ludo      149\n",
            "8                 Army of the Dead      148\n",
            "9                            Drive      147\n"
          ]
        }
      ]
    },
    {
      "cell_type": "code",
      "source": [
        "f=plt.figure(figsize=(28,7))\n",
        "\n",
        "plt.bar(runtimett.Title,runtimett.Runtime,width=0.5,\n",
        "        color=\"#f05131\",label=\"Runtime\")\n",
        "\n",
        "plt.ylabel(\"Runtime\")\n",
        "plt.xlabel(\"Title\")\n",
        "plt.legend()\n",
        "plt.title(\"'Runtime' değeri en yüksek olan ilk 10 film\")\n",
        "plt.show()"
      ],
      "metadata": {
        "execution": {
          "iopub.status.busy": "2022-07-23T06:29:05.966546Z",
          "iopub.execute_input": "2022-07-23T06:29:05.967030Z",
          "iopub.status.idle": "2022-07-23T06:29:06.196656Z",
          "shell.execute_reply.started": "2022-07-23T06:29:05.967003Z",
          "shell.execute_reply": "2022-07-23T06:29:06.195406Z"
        },
        "trusted": true,
        "colab": {
          "base_uri": "https://localhost:8080/",
          "height": 255
        },
        "id": "6b2l6DQQfgVM",
        "outputId": "875e2c6e-374e-4c10-e3c8-d7541967bf59"
      },
      "execution_count": 37,
      "outputs": [
        {
          "output_type": "display_data",
          "data": {
            "text/plain": [
              "<Figure size 2016x504 with 1 Axes>"
            ],
            "image/png": "[encoded data removed]"
          },
          "metadata": {
            "needs_background": "light"
          }
        }
      ]
    },
    {
      "cell_type": "markdown",
      "source": [
        "Hangi yılda en fazla film yayımlanmıştır? Görselleştiriniz."
      ],
      "metadata": {
        "id": "GOTjOGTBfgVN"
      }
    },
    {
      "cell_type": "code",
      "source": [
        "df['Year'] = df['Premiere'].dt.year\n",
        "year = df['Year'].value_counts(sort=True)\n",
        "year = year.to_frame().reset_index()\n",
        "year.columns = ['Year', 'Count']"
      ],
      "metadata": {
        "execution": {
          "iopub.status.busy": "2022-07-23T06:29:06.198492Z",
          "iopub.execute_input": "2022-07-23T06:29:06.198829Z",
          "iopub.status.idle": "2022-07-23T06:29:06.208814Z",
          "shell.execute_reply.started": "2022-07-23T06:29:06.198804Z",
          "shell.execute_reply": "2022-07-23T06:29:06.207404Z"
        },
        "trusted": true,
        "id": "6W59MeeWfgVO"
      },
      "execution_count": 38,
      "outputs": []
    },
    {
      "cell_type": "code",
      "source": [
        "print(year)"
      ],
      "metadata": {
        "execution": {
          "iopub.status.busy": "2022-07-23T06:29:06.209931Z",
          "iopub.execute_input": "2022-07-23T06:29:06.210251Z",
          "iopub.status.idle": "2022-07-23T06:29:06.222458Z",
          "shell.execute_reply.started": "2022-07-23T06:29:06.210223Z",
          "shell.execute_reply": "2022-07-23T06:29:06.221503Z"
        },
        "trusted": true,
        "colab": {
          "base_uri": "https://localhost:8080/"
        },
        "id": "KHgD6yO4fgVO",
        "outputId": "60c891fd-ba2b-4c99-bcba-75ba8e06b879"
      },
      "execution_count": 39,
      "outputs": [
        {
          "output_type": "stream",
          "name": "stdout",
          "text": [
            "   Year  Count\n",
            "0  2020    183\n",
            "1  2019    125\n",
            "2  2018     99\n",
            "3  2021     71\n",
            "4  2017     66\n",
            "5  2016     30\n",
            "6  2015      9\n",
            "7  2014      1\n"
          ]
        }
      ]
    },
    {
      "cell_type": "code",
      "source": [
        "f=plt.figure(figsize=(15,10))\n",
        "\n",
        "plt.bar(year.Year,year.Count,width=0.5,\n",
        "        color=\"#f05131\",label=\"Count\")\n",
        "\n",
        "plt.ylabel(\"Count\")\n",
        "plt.xlabel(\"Year\")\n",
        "plt.legend()\n",
        "plt.title(\"Yıllara göre yayımlanan film sayısı\")\n",
        "plt.show()"
      ],
      "metadata": {
        "execution": {
          "iopub.status.busy": "2022-07-23T06:29:06.223653Z",
          "iopub.execute_input": "2022-07-23T06:29:06.223937Z",
          "iopub.status.idle": "2022-07-23T06:29:06.449926Z",
          "shell.execute_reply.started": "2022-07-23T06:29:06.223909Z",
          "shell.execute_reply": "2022-07-23T06:29:06.448468Z"
        },
        "trusted": true,
        "colab": {
          "base_uri": "https://localhost:8080/",
          "height": 607
        },
        "id": "yXqJPMBWfgVP",
        "outputId": "38c318b4-e097-4aae-daa0-cab1308adb37"
      },
      "execution_count": 40,
      "outputs": [
        {
          "output_type": "display_data",
          "data": {
            "text/plain": [
              "<Figure size 1080x720 with 1 Axes>"
            ],
            "image/png": "[encoded data removed]"
          },
          "metadata": {
            "needs_background": "light"
          }
        }
      ]
    },
    {
      "cell_type": "markdown",
      "source": [
        "Hangi dilde yayımlanan filmler en düşük ortalama IMBD puanına sahiptir? Görselleştiriniz."
      ],
      "metadata": {
        "id": "DGiR78v-fgVP"
      }
    },
    {
      "cell_type": "code",
      "source": [
        "# formül:\n",
        "def lowest_imdb(dataframe):\n",
        "    dataframe= dataframe.groupby(\"Language\").agg({\"IMDB_Score\": \"mean\"}).sort_values(by=\"IMDB_Score\", ascending=True)\n",
        "    runtime = dataframe.head(10)\n",
        "    return(runtime)\n",
        "\n",
        "# görselleştirmede kullanabilmek için:\n",
        "low_imb = lowest_imdb(df)\n",
        "low_imb.reset_index(inplace=True)\n",
        "\n",
        "# en düşük imdbli dilleri görelim:\n",
        "print(low_imb)"
      ],
      "metadata": {
        "execution": {
          "iopub.status.busy": "2022-07-23T06:29:06.454483Z",
          "iopub.execute_input": "2022-07-23T06:29:06.454884Z",
          "iopub.status.idle": "2022-07-23T06:29:06.469340Z",
          "shell.execute_reply.started": "2022-07-23T06:29:06.454854Z",
          "shell.execute_reply": "2022-07-23T06:29:06.468205Z"
        },
        "trusted": true,
        "colab": {
          "base_uri": "https://localhost:8080/"
        },
        "id": "GO184kDcfgVQ",
        "outputId": "eceb516c-d905-4647-997a-aa32d990958b"
      },
      "execution_count": 41,
      "outputs": [
        {
          "output_type": "stream",
          "name": "stdout",
          "text": [
            "           Language  IMDB_Score\n",
            "0             Malay    4.200000\n",
            "1  English/Japanese    4.400000\n",
            "2         Norwegian    5.100000\n",
            "3          Filipino    5.100000\n",
            "4            Polish    5.166667\n",
            "5              Thai    5.450000\n",
            "6           Swedish    5.500000\n",
            "7           Italian    5.542857\n",
            "8    Spanish/Basque    5.600000\n",
            "9            German    5.640000\n"
          ]
        }
      ]
    },
    {
      "cell_type": "code",
      "source": [
        "\n",
        "f=plt.figure(figsize=(12,5))\n",
        "\n",
        "plt.barh(low_imb.Language,low_imb.IMDB_Score,\n",
        "        color=\"#f05131\",label=\"IMDB_Score\")\n",
        "\n",
        "plt.ylabel(\"Language\")\n",
        "plt.xlabel(\"IMDB_Score\")\n",
        "plt.legend()\n",
        "plt.title(\"en düşük ortalama IMBD puanına sahip diller\")\n",
        "plt.show()"
      ],
      "metadata": {
        "execution": {
          "iopub.status.busy": "2022-07-23T06:29:06.477338Z",
          "iopub.execute_input": "2022-07-23T06:29:06.477779Z",
          "iopub.status.idle": "2022-07-23T06:29:06.691935Z",
          "shell.execute_reply.started": "2022-07-23T06:29:06.477747Z",
          "shell.execute_reply": "2022-07-23T06:29:06.690866Z"
        },
        "trusted": true,
        "colab": {
          "base_uri": "https://localhost:8080/",
          "height": 351
        },
        "id": "9MXPdfsufgVR",
        "outputId": "9f506206-20e2-4a86-8415-3a1db93b87eb"
      },
      "execution_count": 42,
      "outputs": [
        {
          "output_type": "display_data",
          "data": {
            "text/plain": [
              "<Figure size 864x360 with 1 Axes>"
            ],
            "image/png": "[encoded data removed]"
          },
          "metadata": {
            "needs_background": "light"
          }
        }
      ]
    },
    {
      "cell_type": "markdown",
      "source": [
        "Hangi yılın toplam \"runtime\" süresi en fazladır?"
      ],
      "metadata": {
        "id": "xW7jDxXafgVR"
      }
    },
    {
      "cell_type": "code",
      "source": [
        "df.groupby(\"Year\").agg({\"Runtime\": \"sum\"}).sort_values(by=\"Runtime\", ascending=False).head(1)"
      ],
      "metadata": {
        "execution": {
          "iopub.status.busy": "2022-07-23T06:29:06.693278Z",
          "iopub.execute_input": "2022-07-23T06:29:06.693739Z",
          "iopub.status.idle": "2022-07-23T06:29:06.705724Z",
          "shell.execute_reply.started": "2022-07-23T06:29:06.693711Z",
          "shell.execute_reply": "2022-07-23T06:29:06.704442Z"
        },
        "trusted": true,
        "colab": {
          "base_uri": "https://localhost:8080/",
          "height": 112
        },
        "id": "Vt_zwcjUfgVS",
        "outputId": "396c1376-d4d3-4acd-e344-9ba49fc461d3"
      },
      "execution_count": 43,
      "outputs": [
        {
          "output_type": "execute_result",
          "data": {
            "text/plain": [
              "      Runtime\n",
              "Year         \n",
              "2020    17384"
            ],
            "text/html": [
              "\n",
              "  <div id=\"df-da4fd8bf-629c-4a12-8a83-d4b57a4ed4e5\">\n",
              "    <div class=\"colab-df-container\">\n",
              "      <div>\n",
              "<style scoped>\n",
              "    .dataframe tbody tr th:only-of-type {\n",
              "        vertical-align: middle;\n",
              "    }\n",
              "\n",
              "    .dataframe tbody tr th {\n",
              "        vertical-align: top;\n",
              "    }\n",
              "\n",
              "    .dataframe thead th {\n",
              "        text-align: right;\n",
              "    }\n",
              "</style>\n",
              "<table border=\"1\" class=\"dataframe\">\n",
              "  <thead>\n",
              "    <tr style=\"text-align: right;\">\n",
              "      <th></th>\n",
              "      <th>Runtime</th>\n",
              "    </tr>\n",
              "    <tr>\n",
              "      <th>Year</th>\n",
              "      <th></th>\n",
              "    </tr>\n",
              "  </thead>\n",
              "  <tbody>\n",
              "    <tr>\n",
              "      <th>2020</th>\n",
              "      <td>17384</td>\n",
              "    </tr>\n",
              "  </tbody>\n",
              "</table>\n",
              "</div>\n",
              "      <button class=\"colab-df-convert\" onclick=\"convertToInteractive('df-da4fd8bf-629c-4a12-8a83-d4b57a4ed4e5')\"\n",
              "              title=\"Convert this dataframe to an interactive table.\"\n",
              "              style=\"display:none;\">\n",
              "        \n",
              "  <svg xmlns=\"http://www.w3.org/2000/svg\" height=\"24px\"viewBox=\"0 0 24 24\"\n",
              "       width=\"24px\">\n",
              "    <path d=\"M0 0h24v24H0V0z\" fill=\"none\"/>\n",
              "    <path d=\"M18.56 5.44l.94 2.06.94-2.06 2.06-.94-2.06-.94-.94-2.06-.94 2.06-2.06.94zm-11 1L8.5 8.5l.94-2.06 2.06-.94-2.06-.94L8.5 2.5l-.94 2.06-2.06.94zm10 10l.94 2.06.94-2.06 2.06-.94-2.06-.94-.94-2.06-.94 2.06-2.06.94z\"/><path d=\"M17.41 7.96l-1.37-1.37c-.4-.4-.92-.59-1.43-.59-.52 0-1.04.2-1.43.59L10.3 9.45l-7.72 7.72c-.78.78-.78 2.05 0 2.83L4 21.41c.39.39.9.59 1.41.59.51 0 1.02-.2 1.41-.59l7.78-7.78 2.81-2.81c.8-.78.8-2.07 0-2.86zM5.41 20L4 18.59l7.72-7.72 1.47 1.35L5.41 20z\"/>\n",
              "  </svg>\n",
              "      </button>\n",
              "      \n",
              "  <style>\n",
              "    .colab-df-container {\n",
              "      display:flex;\n",
              "      flex-wrap:wrap;\n",
              "      gap: 12px;\n",
              "    }\n",
              "\n",
              "    .colab-df-convert {\n",
              "      background-color: #E8F0FE;\n",
              "      border: none;\n",
              "      border-radius: 50%;\n",
              "      cursor: pointer;\n",
              "      display: none;\n",
              "      fill: #1967D2;\n",
              "      height: 32px;\n",
              "      padding: 0 0 0 0;\n",
              "      width: 32px;\n",
              "    }\n",
              "\n",
              "    .colab-df-convert:hover {\n",
              "      background-color: #E2EBFA;\n",
              "      box-shadow: 0px 1px 2px rgba(60, 64, 67, 0.3), 0px 1px 3px 1px rgba(60, 64, 67, 0.15);\n",
              "      fill: #174EA6;\n",
              "    }\n",
              "\n",
              "    [theme=dark] .colab-df-convert {\n",
              "      background-color: #3B4455;\n",
              "      fill: #D2E3FC;\n",
              "    }\n",
              "\n",
              "    [theme=dark] .colab-df-convert:hover {\n",
              "      background-color: #434B5C;\n",
              "      box-shadow: 0px 1px 3px 1px rgba(0, 0, 0, 0.15);\n",
              "      filter: drop-shadow(0px 1px 2px rgba(0, 0, 0, 0.3));\n",
              "      fill: #FFFFFF;\n",
              "    }\n",
              "  </style>\n",
              "\n",
              "      <script>\n",
              "        const buttonEl =\n",
              "          document.querySelector('#df-da4fd8bf-629c-4a12-8a83-d4b57a4ed4e5 button.colab-df-convert');\n",
              "        buttonEl.style.display =\n",
              "          google.colab.kernel.accessAllowed ? 'block' : 'none';\n",
              "\n",
              "        async function convertToInteractive(key) {\n",
              "          const element = document.querySelector('#df-da4fd8bf-629c-4a12-8a83-d4b57a4ed4e5');\n",
              "          const dataTable =\n",
              "            await google.colab.kernel.invokeFunction('convertToInteractive',\n",
              "                                                     [key], {});\n",
              "          if (!dataTable) return;\n",
              "\n",
              "          const docLinkHtml = 'Like what you see? Visit the ' +\n",
              "            '<a target=\"_blank\" href=https://colab.research.google.com/notebooks/data_table.ipynb>data table notebook</a>'\n",
              "            + ' to learn more about interactive tables.';\n",
              "          element.innerHTML = '';\n",
              "          dataTable['output_type'] = 'display_data';\n",
              "          await google.colab.output.renderOutput(dataTable, element);\n",
              "          const docLink = document.createElement('div');\n",
              "          docLink.innerHTML = docLinkHtml;\n",
              "          element.appendChild(docLink);\n",
              "        }\n",
              "      </script>\n",
              "    </div>\n",
              "  </div>\n",
              "  "
            ]
          },
          "metadata": {},
          "execution_count": 43
        }
      ]
    },
    {
      "cell_type": "markdown",
      "source": [
        "Her bir dilin en fazla kullanıldığı \"Genre\" nedir?"
      ],
      "metadata": {
        "id": "EFx8BXgbfgVT"
      }
    },
    {
      "cell_type": "code",
      "source": [
        "df.groupby([\"Language\",\"Genre\"]).agg({\"Language\": \"count\"})"
      ],
      "metadata": {
        "execution": {
          "iopub.status.busy": "2022-07-23T06:29:06.707436Z",
          "iopub.execute_input": "2022-07-23T06:29:06.707747Z",
          "iopub.status.idle": "2022-07-23T06:29:06.737109Z",
          "shell.execute_reply.started": "2022-07-23T06:29:06.707723Z",
          "shell.execute_reply": "2022-07-23T06:29:06.735833Z"
        },
        "trusted": true,
        "colab": {
          "base_uri": "https://localhost:8080/",
          "height": 1000
        },
        "id": "RdXUBiaAfgVU",
        "outputId": "30130b28-2f0a-46f7-cc9c-eb1d25723c9e"
      },
      "execution_count": 44,
      "outputs": [
        {
          "output_type": "execute_result",
          "data": {
            "text/plain": [
              "                                                                 Language\n",
              "Language                   Genre                                         \n",
              "Bengali                    Documentary                                  1\n",
              "Dutch                      Crime drama                                  1\n",
              "                           Fantasy                                      1\n",
              "                           Romantic comedy                              1\n",
              "English                    Action                                       4\n",
              "                           Action comedy                                4\n",
              "                           Action thriller                              1\n",
              "                           Action-thriller                              2\n",
              "                           Action/Comedy                                1\n",
              "                           Action/Science fiction                       1\n",
              "                           Adventure                                    2\n",
              "                           Adventure-romance                            1\n",
              "                           Adventure/Comedy                             1\n",
              "                           Aftershow / Interview                        6\n",
              "                           Animated musical comedy                      1\n",
              "                           Animation                                    5\n",
              "                           Animation / Comedy                           1\n",
              "                           Animation / Musicial                         1\n",
              "                           Animation / Science Fiction                  1\n",
              "                           Animation / Short                            4\n",
              "                           Animation/Christmas/Comedy/Adventure         1\n",
              "                           Animation/Comedy/Adventure                   1\n",
              "                           Animation/Musical/Adventure                  1\n",
              "                           Animation/Superhero                          1\n",
              "                           Anime / Short                                1\n",
              "                           Biographical/Comedy                          1\n",
              "                           Biopic                                       8\n",
              "                           Black comedy                                 1\n",
              "                           Christian musical                            1\n",
              "                           Christmas comedy                             1\n",
              "                           Christmas musical                            1\n",
              "                           Christmas/Fantasy/Adventure/Comedy           1\n",
              "                           Comedy                                      30\n",
              "                           Comedy / Musical                             2\n",
              "                           Comedy horror                                1\n",
              "                           Comedy mystery                               1\n",
              "                           Comedy-drama                                 8\n",
              "                           Comedy/Fantasy/Family                        1\n",
              "                           Comedy/Horror                                1\n",
              "                           Concert Film                                 6\n",
              "                           Crime drama                                  5\n",
              "                           Crime thriller                               1\n",
              "                           Dance comedy                                 1\n",
              "                           Dark comedy                                  2\n",
              "                           Documentary                                120\n",
              "                           Drama                                       35\n",
              "                           Drama / Short                                1\n",
              "                           Drama-Comedy                                 1\n",
              "                           Drama/Horror                                 1\n",
              "                           Family                                       1\n",
              "                           Family film                                  2\n",
              "                           Family/Christmas musical                     1\n",
              "                           Family/Comedy-drama                          1\n",
              "                           Heist                                        1\n",
              "                           Heist film/Thriller                          1\n",
              "                           Hidden-camera prank comedy                   1\n",
              "                           Historical drama                             1\n",
              "                           Historical-epic                              1\n",
              "                           Horror                                       5\n",
              "                           Horror comedy                                1\n",
              "                           Horror thriller                              3\n",
              "                           Horror-thriller                              2\n",
              "                           Horror/Crime drama                           1\n",
              "                           Making-of                                    1\n",
              "                           Mentalism special                            1\n",
              "                           Mockumentary                                 2\n",
              "                           Musical                                      2\n",
              "                           Musical / Short                              1\n",
              "                           Musical comedy                               1\n",
              "                           Musical/Western/Fantasy                      1\n",
              "                           Mystery                                      1\n",
              "                           One-man show                                 3\n",
              "                           Political thriller                           1\n",
              "                           Psychological horror                         1\n",
              "                           Psychological thriller                       4\n",
              "                           Romance                                      4\n",
              "                           Romantic comedy                             27\n",
              "                           Romantic comedy-drama                        1\n",
              "                           Romantic comedy/Holiday                      1\n",
              "                           Romantic drama                               2\n",
              "                           Romantic thriller                            1\n",
              "                           Satire                                       1\n",
              "                           Science fiction                              3\n",
              "                           Science fiction adventure                    1\n",
              "                           Science fiction/Action                       1\n",
              "                           Science fiction/Drama                        2\n",
              "                           Science fiction/Mystery                      1\n",
              "                           Science fiction/Thriller                     4\n",
              "                           Sports-drama                                 3\n",
              "                           Spy thriller                                 2\n",
              "                           Stop Motion                                  1\n",
              "                           Superhero                                    2\n",
              "                           Superhero-Comedy                             1\n",
              "                           Superhero/Action                             1\n",
              "                           Teen comedy horror                           1\n",
              "                           Teen comedy-drama                            1\n",
              "                           Thriller                                    14\n",
              "                           Urban fantasy                                1\n",
              "                           Variety Show                                 1\n",
              "                           Variety show                                 4\n",
              "                           War                                          2\n",
              "                           War drama                                    1\n",
              "                           War-Comedy                                   1\n",
              "                           Western                                      2\n",
              "                           Zombie/Heist                                 1\n",
              "English/Akan               War drama                                    1\n",
              "English/Arabic             Documentary                                  1\n",
              "English/Hindi              Documentary                                  2\n",
              "English/Japanese           Crime drama                                  1\n",
              "                           Documentary                                  1\n",
              "English/Korean             Action-adventure                             1\n",
              "English/Mandarin           Documentary                                  2\n",
              "English/Russian            Documentary                                  1\n",
              "English/Spanish            Documentary                                  5\n",
              "English/Swedish            Documentary                                  1\n",
              "English/Taiwanese/Mandarin Drama                                        1\n",
              "English/Ukranian/Russian   Documentary                                  1\n",
              "Filipino                   Drama                                        1\n",
              "                           Thriller                                     1\n",
              "French                     Action                                       2\n",
              "                           Comedy                                       2\n",
              "                           Crime drama                                  1\n",
              "                           Documentary                                  6\n",
              "                           Drama                                        2\n",
              "                           Romance drama                                1\n",
              "                           Romantic comedy                              2\n",
              "                           Science fiction thriller                     1\n",
              "                           Thriller                                     3\n",
              "Georgian                   Documentary                                  1\n",
              "German                     Drama                                        1\n",
              "                           Romantic comedy                              1\n",
              "                           Satire                                       1\n",
              "                           Supernatural drama                           1\n",
              "                           Thriller                                     1\n",
              "Hindi                      Action                                       1\n",
              "                           Anthology/Dark comedy                        1\n",
              "                           Comedy                                       4\n",
              "                           Comedy-drama                                 2\n",
              "                           Crime drama                                  1\n",
              "                           Drama                                       13\n",
              "                           Horror                                       1\n",
              "                           Horror anthology                             1\n",
              "                           Mystery                                      1\n",
              "                           Romantic comedy                              3\n",
              "                           Thriller                                     5\n",
              "Indonesian                 Action-thriller                              1\n",
              "                           Comedy-drama                                 2\n",
              "                           Drama                                        3\n",
              "                           Romantic comedy                              1\n",
              "                           Romantic drama                               2\n",
              "Italian                    Biopic                                       1\n",
              "                           Comedy                                       3\n",
              "                           Crime drama                                  1\n",
              "                           Drama                                        4\n",
              "                           Romantic drama                               1\n",
              "                           Romantic teen drama                          1\n",
              "                           Romantic teenage drama                       1\n",
              "                           Science fiction/Drama                        1\n",
              "                           Sports film                                  1\n",
              "Japanese                   Anime/Fantasy                                1\n",
              "                           Anime/Science fiction                        2\n",
              "                           Documentary                                  1\n",
              "                           Drama                                        1\n",
              "                           Psychological thriller drama                 1\n",
              "Khmer/English/French       Drama                                        1\n",
              "Korean                     Comedy                                       1\n",
              "                           Documentary                                  1\n",
              "                           Drama                                        2\n",
              "                           Science fiction                              1\n",
              "                           Thriller                                     1\n",
              "Malay                      Action comedy                                1\n",
              "Marathi                    Comedy-drama                                 1\n",
              "                           Drama                                        2\n",
              "Norwegian                  Horror                                       1\n",
              "Polish                     Horror                                       1\n",
              "                           Romantic comedy                              1\n",
              "                           Thriller                                     1\n",
              "Portuguese                 Comedy                                       6\n",
              "                           Comedy-drama                                 1\n",
              "                           Documentary                                  3\n",
              "                           Romantic comedy                              1\n",
              "                           Western                                      1\n",
              "Spanish                    Comedy                                       1\n",
              "                           Coming-of-age comedy-drama                   1\n",
              "                           Crime drama                                  1\n",
              "                           Documentary                                  8\n",
              "                           Drama                                        8\n",
              "                           Family                                       1\n",
              "                           Making-of                                    1\n",
              "                           Musical comedy                               1\n",
              "                           Romance                                      1\n",
              "                           Romantic comedy                              2\n",
              "                           Thriller                                     6\n",
              "Spanish/Basque             Black comedy                                 1\n",
              "Spanish/Catalan            Documentary                                  1\n",
              "Spanish/English            Documentary                                  1\n",
              "Swedish                    Thriller                                     1\n",
              "Tamil                      Drama                                        1\n",
              "Thai                       Documentary                                  1\n",
              "                           Horror                                       1\n",
              "Thia/English               Documentary                                  1\n",
              "Turkish                    Comedy                                       2\n",
              "                           Drama                                        2\n",
              "                           Romance                                      1"
            ],
            "text/html": [
              "\n",
              "  <div id=\"df-c30e99ac-1560-4c8c-b1be-886b79946f95\">\n",
              "    <div class=\"colab-df-container\">\n",
              "      <div>\n",
              "<style scoped>\n",
              "    .dataframe tbody tr th:only-of-type {\n",
              "        vertical-align: middle;\n",
              "    }\n",
              "\n",
              "    .dataframe tbody tr th {\n",
              "        vertical-align: top;\n",
              "    }\n",
              "\n",
              "    .dataframe thead th {\n",
              "        text-align: right;\n",
              "    }\n",
              "</style>\n",
              "<table border=\"1\" class=\"dataframe\">\n",
              "  <thead>\n",
              "    <tr style=\"text-align: right;\">\n",
              "      <th></th>\n",
              "      <th></th>\n",
              "      <th>Language</th>\n",
              "    </tr>\n",
              "    <tr>\n",
              "      <th>Language</th>\n",
              "      <th>Genre</th>\n",
              "      <th></th>\n",
              "    </tr>\n",
              "  </thead>\n",
              "  <tbody>\n",
              "    <tr>\n",
              "      <th>Bengali</th>\n",
              "      <th>Documentary</th>\n",
              "      <td>1</td>\n",
              "    </tr>\n",
              "    <tr>\n",
              "      <th rowspan=\"3\" valign=\"top\">Dutch</th>\n",
              "      <th>Crime drama</th>\n",
              "      <td>1</td>\n",
              "    </tr>\n",
              "    <tr>\n",
              "      <th>Fantasy</th>\n",
              "      <td>1</td>\n",
              "    </tr>\n",
              "    <tr>\n",
              "      <th>Romantic comedy</th>\n",
              "      <td>1</td>\n",
              "    </tr>\n",
              "    <tr>\n",
              "      <th rowspan=\"101\" valign=\"top\">English</th>\n",
              "      <th>Action</th>\n",
              "      <td>4</td>\n",
              "    </tr>\n",
              "    <tr>\n",
              "      <th>Action comedy</th>\n",
              "      <td>4</td>\n",
              "    </tr>\n",
              "    <tr>\n",
              "      <th>Action thriller</th>\n",
              "      <td>1</td>\n",
              "    </tr>\n",
              "    <tr>\n",
              "      <th>Action-thriller</th>\n",
              "      <td>2</td>\n",
              "    </tr>\n",
              "    <tr>\n",
              "      <th>Action/Comedy</th>\n",
              "      <td>1</td>\n",
              "    </tr>\n",
              "    <tr>\n",
              "      <th>Action/Science fiction</th>\n",
              "      <td>1</td>\n",
              "    </tr>\n",
              "    <tr>\n",
              "      <th>Adventure</th>\n",
              "      <td>2</td>\n",
              "    </tr>\n",
              "    <tr>\n",
              "      <th>Adventure-romance</th>\n",
              "      <td>1</td>\n",
              "    </tr>\n",
              "    <tr>\n",
              "      <th>Adventure/Comedy</th>\n",
              "      <td>1</td>\n",
              "    </tr>\n",
              "    <tr>\n",
              "      <th>Aftershow / Interview</th>\n",
              "      <td>6</td>\n",
              "    </tr>\n",
              "    <tr>\n",
              "      <th>Animated musical comedy</th>\n",
              "      <td>1</td>\n",
              "    </tr>\n",
              "    <tr>\n",
              "      <th>Animation</th>\n",
              "      <td>5</td>\n",
              "    </tr>\n",
              "    <tr>\n",
              "      <th>Animation / Comedy</th>\n",
              "      <td>1</td>\n",
              "    </tr>\n",
              "    <tr>\n",
              "      <th>Animation / Musicial</th>\n",
              "      <td>1</td>\n",
              "    </tr>\n",
              "    <tr>\n",
              "      <th>Animation / Science Fiction</th>\n",
              "      <td>1</td>\n",
              "    </tr>\n",
              "    <tr>\n",
              "      <th>Animation / Short</th>\n",
              "      <td>4</td>\n",
              "    </tr>\n",
              "    <tr>\n",
              "      <th>Animation/Christmas/Comedy/Adventure</th>\n",
              "      <td>1</td>\n",
              "    </tr>\n",
              "    <tr>\n",
              "      <th>Animation/Comedy/Adventure</th>\n",
              "      <td>1</td>\n",
              "    </tr>\n",
              "    <tr>\n",
              "      <th>Animation/Musical/Adventure</th>\n",
              "      <td>1</td>\n",
              "    </tr>\n",
              "    <tr>\n",
              "      <th>Animation/Superhero</th>\n",
              "      <td>1</td>\n",
              "    </tr>\n",
              "    <tr>\n",
              "      <th>Anime / Short</th>\n",
              "      <td>1</td>\n",
              "    </tr>\n",
              "    <tr>\n",
              "      <th>Biographical/Comedy</th>\n",
              "      <td>1</td>\n",
              "    </tr>\n",
              "    <tr>\n",
              "      <th>Biopic</th>\n",
              "      <td>8</td>\n",
              "    </tr>\n",
              "    <tr>\n",
              "      <th>Black comedy</th>\n",
              "      <td>1</td>\n",
              "    </tr>\n",
              "    <tr>\n",
              "      <th>Christian musical</th>\n",
              "      <td>1</td>\n",
              "    </tr>\n",
              "    <tr>\n",
              "      <th>Christmas comedy</th>\n",
              "      <td>1</td>\n",
              "    </tr>\n",
              "    <tr>\n",
              "      <th>Christmas musical</th>\n",
              "      <td>1</td>\n",
              "    </tr>\n",
              "    <tr>\n",
              "      <th>Christmas/Fantasy/Adventure/Comedy</th>\n",
              "      <td>1</td>\n",
              "    </tr>\n",
              "    <tr>\n",
              "      <th>Comedy</th>\n",
              "      <td>30</td>\n",
              "    </tr>\n",
              "    <tr>\n",
              "      <th>Comedy / Musical</th>\n",
              "      <td>2</td>\n",
              "    </tr>\n",
              "    <tr>\n",
              "      <th>Comedy horror</th>\n",
              "      <td>1</td>\n",
              "    </tr>\n",
              "    <tr>\n",
              "      <th>Comedy mystery</th>\n",
              "      <td>1</td>\n",
              "    </tr>\n",
              "    <tr>\n",
              "      <th>Comedy-drama</th>\n",
              "      <td>8</td>\n",
              "    </tr>\n",
              "    <tr>\n",
              "      <th>Comedy/Fantasy/Family</th>\n",
              "      <td>1</td>\n",
              "    </tr>\n",
              "    <tr>\n",
              "      <th>Comedy/Horror</th>\n",
              "      <td>1</td>\n",
              "    </tr>\n",
              "    <tr>\n",
              "      <th>Concert Film</th>\n",
              "      <td>6</td>\n",
              "    </tr>\n",
              "    <tr>\n",
              "      <th>Crime drama</th>\n",
              "      <td>5</td>\n",
              "    </tr>\n",
              "    <tr>\n",
              "      <th>Crime thriller</th>\n",
              "      <td>1</td>\n",
              "    </tr>\n",
              "    <tr>\n",
              "      <th>Dance comedy</th>\n",
              "      <td>1</td>\n",
              "    </tr>\n",
              "    <tr>\n",
              "      <th>Dark comedy</th>\n",
              "      <td>2</td>\n",
              "    </tr>\n",
              "    <tr>\n",
              "      <th>Documentary</th>\n",
              "      <td>120</td>\n",
              "    </tr>\n",
              "    <tr>\n",
              "      <th>Drama</th>\n",
              "      <td>35</td>\n",
              "    </tr>\n",
              "    <tr>\n",
              "      <th>Drama / Short</th>\n",
              "      <td>1</td>\n",
              "    </tr>\n",
              "    <tr>\n",
              "      <th>Drama-Comedy</th>\n",
              "      <td>1</td>\n",
              "    </tr>\n",
              "    <tr>\n",
              "      <th>Drama/Horror</th>\n",
              "      <td>1</td>\n",
              "    </tr>\n",
              "    <tr>\n",
              "      <th>Family</th>\n",
              "      <td>1</td>\n",
              "    </tr>\n",
              "    <tr>\n",
              "      <th>Family film</th>\n",
              "      <td>2</td>\n",
              "    </tr>\n",
              "    <tr>\n",
              "      <th>Family/Christmas musical</th>\n",
              "      <td>1</td>\n",
              "    </tr>\n",
              "    <tr>\n",
              "      <th>Family/Comedy-drama</th>\n",
              "      <td>1</td>\n",
              "    </tr>\n",
              "    <tr>\n",
              "      <th>Heist</th>\n",
              "      <td>1</td>\n",
              "    </tr>\n",
              "    <tr>\n",
              "      <th>Heist film/Thriller</th>\n",
              "      <td>1</td>\n",
              "    </tr>\n",
              "    <tr>\n",
              "      <th>Hidden-camera prank comedy</th>\n",
              "      <td>1</td>\n",
              "    </tr>\n",
              "    <tr>\n",
              "      <th>Historical drama</th>\n",
              "      <td>1</td>\n",
              "    </tr>\n",
              "    <tr>\n",
              "      <th>Historical-epic</th>\n",
              "      <td>1</td>\n",
              "    </tr>\n",
              "    <tr>\n",
              "      <th>Horror</th>\n",
              "      <td>5</td>\n",
              "    </tr>\n",
              "    <tr>\n",
              "      <th>Horror comedy</th>\n",
              "      <td>1</td>\n",
              "    </tr>\n",
              "    <tr>\n",
              "      <th>Horror thriller</th>\n",
              "      <td>3</td>\n",
              "    </tr>\n",
              "    <tr>\n",
              "      <th>Horror-thriller</th>\n",
              "      <td>2</td>\n",
              "    </tr>\n",
              "    <tr>\n",
              "      <th>Horror/Crime drama</th>\n",
              "      <td>1</td>\n",
              "    </tr>\n",
              "    <tr>\n",
              "      <th>Making-of</th>\n",
              "      <td>1</td>\n",
              "    </tr>\n",
              "    <tr>\n",
              "      <th>Mentalism special</th>\n",
              "      <td>1</td>\n",
              "    </tr>\n",
              "    <tr>\n",
              "      <th>Mockumentary</th>\n",
              "      <td>2</td>\n",
              "    </tr>\n",
              "    <tr>\n",
              "      <th>Musical</th>\n",
              "      <td>2</td>\n",
              "    </tr>\n",
              "    <tr>\n",
              "      <th>Musical / Short</th>\n",
              "      <td>1</td>\n",
              "    </tr>\n",
              "    <tr>\n",
              "      <th>Musical comedy</th>\n",
              "      <td>1</td>\n",
              "    </tr>\n",
              "    <tr>\n",
              "      <th>Musical/Western/Fantasy</th>\n",
              "      <td>1</td>\n",
              "    </tr>\n",
              "    <tr>\n",
              "      <th>Mystery</th>\n",
              "      <td>1</td>\n",
              "    </tr>\n",
              "    <tr>\n",
              "      <th>One-man show</th>\n",
              "      <td>3</td>\n",
              "    </tr>\n",
              "    <tr>\n",
              "      <th>Political thriller</th>\n",
              "      <td>1</td>\n",
              "    </tr>\n",
              "    <tr>\n",
              "      <th>Psychological horror</th>\n",
              "      <td>1</td>\n",
              "    </tr>\n",
              "    <tr>\n",
              "      <th>Psychological thriller</th>\n",
              "      <td>4</td>\n",
              "    </tr>\n",
              "    <tr>\n",
              "      <th>Romance</th>\n",
              "      <td>4</td>\n",
              "    </tr>\n",
              "    <tr>\n",
              "      <th>Romantic comedy</th>\n",
              "      <td>27</td>\n",
              "    </tr>\n",
              "    <tr>\n",
              "      <th>Romantic comedy-drama</th>\n",
              "      <td>1</td>\n",
              "    </tr>\n",
              "    <tr>\n",
              "      <th>Romantic comedy/Holiday</th>\n",
              "      <td>1</td>\n",
              "    </tr>\n",
              "    <tr>\n",
              "      <th>Romantic drama</th>\n",
              "      <td>2</td>\n",
              "    </tr>\n",
              "    <tr>\n",
              "      <th>Romantic thriller</th>\n",
              "      <td>1</td>\n",
              "    </tr>\n",
              "    <tr>\n",
              "      <th>Satire</th>\n",
              "      <td>1</td>\n",
              "    </tr>\n",
              "    <tr>\n",
              "      <th>Science fiction</th>\n",
              "      <td>3</td>\n",
              "    </tr>\n",
              "    <tr>\n",
              "      <th>Science fiction adventure</th>\n",
              "      <td>1</td>\n",
              "    </tr>\n",
              "    <tr>\n",
              "      <th>Science fiction/Action</th>\n",
              "      <td>1</td>\n",
              "    </tr>\n",
              "    <tr>\n",
              "      <th>Science fiction/Drama</th>\n",
              "      <td>2</td>\n",
              "    </tr>\n",
              "    <tr>\n",
              "      <th>Science fiction/Mystery</th>\n",
              "      <td>1</td>\n",
              "    </tr>\n",
              "    <tr>\n",
              "      <th>Science fiction/Thriller</th>\n",
              "      <td>4</td>\n",
              "    </tr>\n",
              "    <tr>\n",
              "      <th>Sports-drama</th>\n",
              "      <td>3</td>\n",
              "    </tr>\n",
              "    <tr>\n",
              "      <th>Spy thriller</th>\n",
              "      <td>2</td>\n",
              "    </tr>\n",
              "    <tr>\n",
              "      <th>Stop Motion</th>\n",
              "      <td>1</td>\n",
              "    </tr>\n",
              "    <tr>\n",
              "      <th>Superhero</th>\n",
              "      <td>2</td>\n",
              "    </tr>\n",
              "    <tr>\n",
              "      <th>Superhero-Comedy</th>\n",
              "      <td>1</td>\n",
              "    </tr>\n",
              "    <tr>\n",
              "      <th>Superhero/Action</th>\n",
              "      <td>1</td>\n",
              "    </tr>\n",
              "    <tr>\n",
              "      <th>Teen comedy horror</th>\n",
              "      <td>1</td>\n",
              "    </tr>\n",
              "    <tr>\n",
              "      <th>Teen comedy-drama</th>\n",
              "      <td>1</td>\n",
              "    </tr>\n",
              "    <tr>\n",
              "      <th>Thriller</th>\n",
              "      <td>14</td>\n",
              "    </tr>\n",
              "    <tr>\n",
              "      <th>Urban fantasy</th>\n",
              "      <td>1</td>\n",
              "    </tr>\n",
              "    <tr>\n",
              "      <th>Variety Show</th>\n",
              "      <td>1</td>\n",
              "    </tr>\n",
              "    <tr>\n",
              "      <th>Variety show</th>\n",
              "      <td>4</td>\n",
              "    </tr>\n",
              "    <tr>\n",
              "      <th>War</th>\n",
              "      <td>2</td>\n",
              "    </tr>\n",
              "    <tr>\n",
              "      <th>War drama</th>\n",
              "      <td>1</td>\n",
              "    </tr>\n",
              "    <tr>\n",
              "      <th>War-Comedy</th>\n",
              "      <td>1</td>\n",
              "    </tr>\n",
              "    <tr>\n",
              "      <th>Western</th>\n",
              "      <td>2</td>\n",
              "    </tr>\n",
              "    <tr>\n",
              "      <th>Zombie/Heist</th>\n",
              "      <td>1</td>\n",
              "    </tr>\n",
              "    <tr>\n",
              "      <th>English/Akan</th>\n",
              "      <th>War drama</th>\n",
              "      <td>1</td>\n",
              "    </tr>\n",
              "    <tr>\n",
              "      <th>English/Arabic</th>\n",
              "      <th>Documentary</th>\n",
              "      <td>1</td>\n",
              "    </tr>\n",
              "    <tr>\n",
              "      <th>English/Hindi</th>\n",
              "      <th>Documentary</th>\n",
              "      <td>2</td>\n",
              "    </tr>\n",
              "    <tr>\n",
              "      <th rowspan=\"2\" valign=\"top\">English/Japanese</th>\n",
              "      <th>Crime drama</th>\n",
              "      <td>1</td>\n",
              "    </tr>\n",
              "    <tr>\n",
              "      <th>Documentary</th>\n",
              "      <td>1</td>\n",
              "    </tr>\n",
              "    <tr>\n",
              "      <th>English/Korean</th>\n",
              "      <th>Action-adventure</th>\n",
              "      <td>1</td>\n",
              "    </tr>\n",
              "    <tr>\n",
              "      <th>English/Mandarin</th>\n",
              "      <th>Documentary</th>\n",
              "      <td>2</td>\n",
              "    </tr>\n",
              "    <tr>\n",
              "      <th>English/Russian</th>\n",
              "      <th>Documentary</th>\n",
              "      <td>1</td>\n",
              "    </tr>\n",
              "    <tr>\n",
              "      <th>English/Spanish</th>\n",
              "      <th>Documentary</th>\n",
              "      <td>5</td>\n",
              "    </tr>\n",
              "    <tr>\n",
              "      <th>English/Swedish</th>\n",
              "      <th>Documentary</th>\n",
              "      <td>1</td>\n",
              "    </tr>\n",
              "    <tr>\n",
              "      <th>English/Taiwanese/Mandarin</th>\n",
              "      <th>Drama</th>\n",
              "      <td>1</td>\n",
              "    </tr>\n",
              "    <tr>\n",
              "      <th>English/Ukranian/Russian</th>\n",
              "      <th>Documentary</th>\n",
              "      <td>1</td>\n",
              "    </tr>\n",
              "    <tr>\n",
              "      <th rowspan=\"2\" valign=\"top\">Filipino</th>\n",
              "      <th>Drama</th>\n",
              "      <td>1</td>\n",
              "    </tr>\n",
              "    <tr>\n",
              "      <th>Thriller</th>\n",
              "      <td>1</td>\n",
              "    </tr>\n",
              "    <tr>\n",
              "      <th rowspan=\"9\" valign=\"top\">French</th>\n",
              "      <th>Action</th>\n",
              "      <td>2</td>\n",
              "    </tr>\n",
              "    <tr>\n",
              "      <th>Comedy</th>\n",
              "      <td>2</td>\n",
              "    </tr>\n",
              "    <tr>\n",
              "      <th>Crime drama</th>\n",
              "      <td>1</td>\n",
              "    </tr>\n",
              "    <tr>\n",
              "      <th>Documentary</th>\n",
              "      <td>6</td>\n",
              "    </tr>\n",
              "    <tr>\n",
              "      <th>Drama</th>\n",
              "      <td>2</td>\n",
              "    </tr>\n",
              "    <tr>\n",
              "      <th>Romance drama</th>\n",
              "      <td>1</td>\n",
              "    </tr>\n",
              "    <tr>\n",
              "      <th>Romantic comedy</th>\n",
              "      <td>2</td>\n",
              "    </tr>\n",
              "    <tr>\n",
              "      <th>Science fiction thriller</th>\n",
              "      <td>1</td>\n",
              "    </tr>\n",
              "    <tr>\n",
              "      <th>Thriller</th>\n",
              "      <td>3</td>\n",
              "    </tr>\n",
              "    <tr>\n",
              "      <th>Georgian</th>\n",
              "      <th>Documentary</th>\n",
              "      <td>1</td>\n",
              "    </tr>\n",
              "    <tr>\n",
              "      <th rowspan=\"5\" valign=\"top\">German</th>\n",
              "      <th>Drama</th>\n",
              "      <td>1</td>\n",
              "    </tr>\n",
              "    <tr>\n",
              "      <th>Romantic comedy</th>\n",
              "      <td>1</td>\n",
              "    </tr>\n",
              "    <tr>\n",
              "      <th>Satire</th>\n",
              "      <td>1</td>\n",
              "    </tr>\n",
              "    <tr>\n",
              "      <th>Supernatural drama</th>\n",
              "      <td>1</td>\n",
              "    </tr>\n",
              "    <tr>\n",
              "      <th>Thriller</th>\n",
              "      <td>1</td>\n",
              "    </tr>\n",
              "    <tr>\n",
              "      <th rowspan=\"11\" valign=\"top\">Hindi</th>\n",
              "      <th>Action</th>\n",
              "      <td>1</td>\n",
              "    </tr>\n",
              "    <tr>\n",
              "      <th>Anthology/Dark comedy</th>\n",
              "      <td>1</td>\n",
              "    </tr>\n",
              "    <tr>\n",
              "      <th>Comedy</th>\n",
              "      <td>4</td>\n",
              "    </tr>\n",
              "    <tr>\n",
              "      <th>Comedy-drama</th>\n",
              "      <td>2</td>\n",
              "    </tr>\n",
              "    <tr>\n",
              "      <th>Crime drama</th>\n",
              "      <td>1</td>\n",
              "    </tr>\n",
              "    <tr>\n",
              "      <th>Drama</th>\n",
              "      <td>13</td>\n",
              "    </tr>\n",
              "    <tr>\n",
              "      <th>Horror</th>\n",
              "      <td>1</td>\n",
              "    </tr>\n",
              "    <tr>\n",
              "      <th>Horror anthology</th>\n",
              "      <td>1</td>\n",
              "    </tr>\n",
              "    <tr>\n",
              "      <th>Mystery</th>\n",
              "      <td>1</td>\n",
              "    </tr>\n",
              "    <tr>\n",
              "      <th>Romantic comedy</th>\n",
              "      <td>3</td>\n",
              "    </tr>\n",
              "    <tr>\n",
              "      <th>Thriller</th>\n",
              "      <td>5</td>\n",
              "    </tr>\n",
              "    <tr>\n",
              "      <th rowspan=\"5\" valign=\"top\">Indonesian</th>\n",
              "      <th>Action-thriller</th>\n",
              "      <td>1</td>\n",
              "    </tr>\n",
              "    <tr>\n",
              "      <th>Comedy-drama</th>\n",
              "      <td>2</td>\n",
              "    </tr>\n",
              "    <tr>\n",
              "      <th>Drama</th>\n",
              "      <td>3</td>\n",
              "    </tr>\n",
              "    <tr>\n",
              "      <th>Romantic comedy</th>\n",
              "      <td>1</td>\n",
              "    </tr>\n",
              "    <tr>\n",
              "      <th>Romantic drama</th>\n",
              "      <td>2</td>\n",
              "    </tr>\n",
              "    <tr>\n",
              "      <th rowspan=\"9\" valign=\"top\">Italian</th>\n",
              "      <th>Biopic</th>\n",
              "      <td>1</td>\n",
              "    </tr>\n",
              "    <tr>\n",
              "      <th>Comedy</th>\n",
              "      <td>3</td>\n",
              "    </tr>\n",
              "    <tr>\n",
              "      <th>Crime drama</th>\n",
              "      <td>1</td>\n",
              "    </tr>\n",
              "    <tr>\n",
              "      <th>Drama</th>\n",
              "      <td>4</td>\n",
              "    </tr>\n",
              "    <tr>\n",
              "      <th>Romantic drama</th>\n",
              "      <td>1</td>\n",
              "    </tr>\n",
              "    <tr>\n",
              "      <th>Romantic teen drama</th>\n",
              "      <td>1</td>\n",
              "    </tr>\n",
              "    <tr>\n",
              "      <th>Romantic teenage drama</th>\n",
              "      <td>1</td>\n",
              "    </tr>\n",
              "    <tr>\n",
              "      <th>Science fiction/Drama</th>\n",
              "      <td>1</td>\n",
              "    </tr>\n",
              "    <tr>\n",
              "      <th>Sports film</th>\n",
              "      <td>1</td>\n",
              "    </tr>\n",
              "    <tr>\n",
              "      <th rowspan=\"5\" valign=\"top\">Japanese</th>\n",
              "      <th>Anime/Fantasy</th>\n",
              "      <td>1</td>\n",
              "    </tr>\n",
              "    <tr>\n",
              "      <th>Anime/Science fiction</th>\n",
              "      <td>2</td>\n",
              "    </tr>\n",
              "    <tr>\n",
              "      <th>Documentary</th>\n",
              "      <td>1</td>\n",
              "    </tr>\n",
              "    <tr>\n",
              "      <th>Drama</th>\n",
              "      <td>1</td>\n",
              "    </tr>\n",
              "    <tr>\n",
              "      <th>Psychological thriller drama</th>\n",
              "      <td>1</td>\n",
              "    </tr>\n",
              "    <tr>\n",
              "      <th>Khmer/English/French</th>\n",
              "      <th>Drama</th>\n",
              "      <td>1</td>\n",
              "    </tr>\n",
              "    <tr>\n",
              "      <th rowspan=\"5\" valign=\"top\">Korean</th>\n",
              "      <th>Comedy</th>\n",
              "      <td>1</td>\n",
              "    </tr>\n",
              "    <tr>\n",
              "      <th>Documentary</th>\n",
              "      <td>1</td>\n",
              "    </tr>\n",
              "    <tr>\n",
              "      <th>Drama</th>\n",
              "      <td>2</td>\n",
              "    </tr>\n",
              "    <tr>\n",
              "      <th>Science fiction</th>\n",
              "      <td>1</td>\n",
              "    </tr>\n",
              "    <tr>\n",
              "      <th>Thriller</th>\n",
              "      <td>1</td>\n",
              "    </tr>\n",
              "    <tr>\n",
              "      <th>Malay</th>\n",
              "      <th>Action comedy</th>\n",
              "      <td>1</td>\n",
              "    </tr>\n",
              "    <tr>\n",
              "      <th rowspan=\"2\" valign=\"top\">Marathi</th>\n",
              "      <th>Comedy-drama</th>\n",
              "      <td>1</td>\n",
              "    </tr>\n",
              "    <tr>\n",
              "      <th>Drama</th>\n",
              "      <td>2</td>\n",
              "    </tr>\n",
              "    <tr>\n",
              "      <th>Norwegian</th>\n",
              "      <th>Horror</th>\n",
              "      <td>1</td>\n",
              "    </tr>\n",
              "    <tr>\n",
              "      <th rowspan=\"3\" valign=\"top\">Polish</th>\n",
              "      <th>Horror</th>\n",
              "      <td>1</td>\n",
              "    </tr>\n",
              "    <tr>\n",
              "      <th>Romantic comedy</th>\n",
              "      <td>1</td>\n",
              "    </tr>\n",
              "    <tr>\n",
              "      <th>Thriller</th>\n",
              "      <td>1</td>\n",
              "    </tr>\n",
              "    <tr>\n",
              "      <th rowspan=\"5\" valign=\"top\">Portuguese</th>\n",
              "      <th>Comedy</th>\n",
              "      <td>6</td>\n",
              "    </tr>\n",
              "    <tr>\n",
              "      <th>Comedy-drama</th>\n",
              "      <td>1</td>\n",
              "    </tr>\n",
              "    <tr>\n",
              "      <th>Documentary</th>\n",
              "      <td>3</td>\n",
              "    </tr>\n",
              "    <tr>\n",
              "      <th>Romantic comedy</th>\n",
              "      <td>1</td>\n",
              "    </tr>\n",
              "    <tr>\n",
              "      <th>Western</th>\n",
              "      <td>1</td>\n",
              "    </tr>\n",
              "    <tr>\n",
              "      <th rowspan=\"11\" valign=\"top\">Spanish</th>\n",
              "      <th>Comedy</th>\n",
              "      <td>1</td>\n",
              "    </tr>\n",
              "    <tr>\n",
              "      <th>Coming-of-age comedy-drama</th>\n",
              "      <td>1</td>\n",
              "    </tr>\n",
              "    <tr>\n",
              "      <th>Crime drama</th>\n",
              "      <td>1</td>\n",
              "    </tr>\n",
              "    <tr>\n",
              "      <th>Documentary</th>\n",
              "      <td>8</td>\n",
              "    </tr>\n",
              "    <tr>\n",
              "      <th>Drama</th>\n",
              "      <td>8</td>\n",
              "    </tr>\n",
              "    <tr>\n",
              "      <th>Family</th>\n",
              "      <td>1</td>\n",
              "    </tr>\n",
              "    <tr>\n",
              "      <th>Making-of</th>\n",
              "      <td>1</td>\n",
              "    </tr>\n",
              "    <tr>\n",
              "      <th>Musical comedy</th>\n",
              "      <td>1</td>\n",
              "    </tr>\n",
              "    <tr>\n",
              "      <th>Romance</th>\n",
              "      <td>1</td>\n",
              "    </tr>\n",
              "    <tr>\n",
              "      <th>Romantic comedy</th>\n",
              "      <td>2</td>\n",
              "    </tr>\n",
              "    <tr>\n",
              "      <th>Thriller</th>\n",
              "      <td>6</td>\n",
              "    </tr>\n",
              "    <tr>\n",
              "      <th>Spanish/Basque</th>\n",
              "      <th>Black comedy</th>\n",
              "      <td>1</td>\n",
              "    </tr>\n",
              "    <tr>\n",
              "      <th>Spanish/Catalan</th>\n",
              "      <th>Documentary</th>\n",
              "      <td>1</td>\n",
              "    </tr>\n",
              "    <tr>\n",
              "      <th>Spanish/English</th>\n",
              "      <th>Documentary</th>\n",
              "      <td>1</td>\n",
              "    </tr>\n",
              "    <tr>\n",
              "      <th>Swedish</th>\n",
              "      <th>Thriller</th>\n",
              "      <td>1</td>\n",
              "    </tr>\n",
              "    <tr>\n",
              "      <th>Tamil</th>\n",
              "      <th>Drama</th>\n",
              "      <td>1</td>\n",
              "    </tr>\n",
              "    <tr>\n",
              "      <th rowspan=\"2\" valign=\"top\">Thai</th>\n",
              "      <th>Documentary</th>\n",
              "      <td>1</td>\n",
              "    </tr>\n",
              "    <tr>\n",
              "      <th>Horror</th>\n",
              "      <td>1</td>\n",
              "    </tr>\n",
              "    <tr>\n",
              "      <th>Thia/English</th>\n",
              "      <th>Documentary</th>\n",
              "      <td>1</td>\n",
              "    </tr>\n",
              "    <tr>\n",
              "      <th rowspan=\"3\" valign=\"top\">Turkish</th>\n",
              "      <th>Comedy</th>\n",
              "      <td>2</td>\n",
              "    </tr>\n",
              "    <tr>\n",
              "      <th>Drama</th>\n",
              "      <td>2</td>\n",
              "    </tr>\n",
              "    <tr>\n",
              "      <th>Romance</th>\n",
              "      <td>1</td>\n",
              "    </tr>\n",
              "  </tbody>\n",
              "</table>\n",
              "</div>\n",
              "      <button class=\"colab-df-convert\" onclick=\"convertToInteractive('df-c30e99ac-1560-4c8c-b1be-886b79946f95')\"\n",
              "              title=\"Convert this dataframe to an interactive table.\"\n",
              "              style=\"display:none;\">\n",
              "        \n",
              "  <svg xmlns=\"http://www.w3.org/2000/svg\" height=\"24px\"viewBox=\"0 0 24 24\"\n",
              "       width=\"24px\">\n",
              "    <path d=\"M0 0h24v24H0V0z\" fill=\"none\"/>\n",
              "    <path d=\"M18.56 5.44l.94 2.06.94-2.06 2.06-.94-2.06-.94-.94-2.06-.94 2.06-2.06.94zm-11 1L8.5 8.5l.94-2.06 2.06-.94-2.06-.94L8.5 2.5l-.94 2.06-2.06.94zm10 10l.94 2.06.94-2.06 2.06-.94-2.06-.94-.94-2.06-.94 2.06-2.06.94z\"/><path d=\"M17.41 7.96l-1.37-1.37c-.4-.4-.92-.59-1.43-.59-.52 0-1.04.2-1.43.59L10.3 9.45l-7.72 7.72c-.78.78-.78 2.05 0 2.83L4 21.41c.39.39.9.59 1.41.59.51 0 1.02-.2 1.41-.59l7.78-7.78 2.81-2.81c.8-.78.8-2.07 0-2.86zM5.41 20L4 18.59l7.72-7.72 1.47 1.35L5.41 20z\"/>\n",
              "  </svg>\n",
              "      </button>\n",
              "      \n",
              "  <style>\n",
              "    .colab-df-container {\n",
              "      display:flex;\n",
              "      flex-wrap:wrap;\n",
              "      gap: 12px;\n",
              "    }\n",
              "\n",
              "    .colab-df-convert {\n",
              "      background-color: #E8F0FE;\n",
              "      border: none;\n",
              "      border-radius: 50%;\n",
              "      cursor: pointer;\n",
              "      display: none;\n",
              "      fill: #1967D2;\n",
              "      height: 32px;\n",
              "      padding: 0 0 0 0;\n",
              "      width: 32px;\n",
              "    }\n",
              "\n",
              "    .colab-df-convert:hover {\n",
              "      background-color: #E2EBFA;\n",
              "      box-shadow: 0px 1px 2px rgba(60, 64, 67, 0.3), 0px 1px 3px 1px rgba(60, 64, 67, 0.15);\n",
              "      fill: #174EA6;\n",
              "    }\n",
              "\n",
              "    [theme=dark] .colab-df-convert {\n",
              "      background-color: #3B4455;\n",
              "      fill: #D2E3FC;\n",
              "    }\n",
              "\n",
              "    [theme=dark] .colab-df-convert:hover {\n",
              "      background-color: #434B5C;\n",
              "      box-shadow: 0px 1px 3px 1px rgba(0, 0, 0, 0.15);\n",
              "      filter: drop-shadow(0px 1px 2px rgba(0, 0, 0, 0.3));\n",
              "      fill: #FFFFFF;\n",
              "    }\n",
              "  </style>\n",
              "\n",
              "      <script>\n",
              "        const buttonEl =\n",
              "          document.querySelector('#df-c30e99ac-1560-4c8c-b1be-886b79946f95 button.colab-df-convert');\n",
              "        buttonEl.style.display =\n",
              "          google.colab.kernel.accessAllowed ? 'block' : 'none';\n",
              "\n",
              "        async function convertToInteractive(key) {\n",
              "          const element = document.querySelector('#df-c30e99ac-1560-4c8c-b1be-886b79946f95');\n",
              "          const dataTable =\n",
              "            await google.colab.kernel.invokeFunction('convertToInteractive',\n",
              "                                                     [key], {});\n",
              "          if (!dataTable) return;\n",
              "\n",
              "          const docLinkHtml = 'Like what you see? Visit the ' +\n",
              "            '<a target=\"_blank\" href=https://colab.research.google.com/notebooks/data_table.ipynb>data table notebook</a>'\n",
              "            + ' to learn more about interactive tables.';\n",
              "          element.innerHTML = '';\n",
              "          dataTable['output_type'] = 'display_data';\n",
              "          await google.colab.output.renderOutput(dataTable, element);\n",
              "          const docLink = document.createElement('div');\n",
              "          docLink.innerHTML = docLinkHtml;\n",
              "          element.appendChild(docLink);\n",
              "        }\n",
              "      </script>\n",
              "    </div>\n",
              "  </div>\n",
              "  "
            ]
          },
          "metadata": {},
          "execution_count": 44
        }
      ]
    },
    {
      "cell_type": "markdown",
      "source": [
        "Veri setinde outlier veri var mıdır? Açıklayınız."
      ],
      "metadata": {
        "id": "XjwFRy7mfgVV"
      }
    },
    {
      "cell_type": "code",
      "source": [
        "# aykırı gözlem analizi\n",
        "# aykırı değer üst ve alt limitlerini bulma\n",
        "def outlier_thresholds(dataframe, col_name, q1=0.25, q3=0.75):\n",
        "    quartile1 = dataframe[col_name].quantile(q1)\n",
        "    quartile3 = dataframe[col_name].quantile(q3)\n",
        "    interquantile_range = quartile3 - quartile1\n",
        "    up_limit = quartile3 + 1.5 * interquantile_range\n",
        "    low_limit = quartile1 - 1.5 * interquantile_range\n",
        "    return low_limit, up_limit\n",
        "\n",
        "def check_outlier(dataframe, col_name, q1=0.25, q3=0.75):\n",
        "    low_limit, up_limit = outlier_thresholds(dataframe, col_name, q1, q3)\n",
        "    if dataframe[(dataframe[col_name] > up_limit) | (dataframe[col_name] < low_limit)].any(axis=None):\n",
        "        return True\n",
        "    else:\n",
        "        return False"
      ],
      "metadata": {
        "execution": {
          "iopub.status.busy": "2022-07-23T06:29:06.738752Z",
          "iopub.execute_input": "2022-07-23T06:29:06.739975Z",
          "iopub.status.idle": "2022-07-23T06:29:06.749060Z",
          "shell.execute_reply.started": "2022-07-23T06:29:06.739934Z",
          "shell.execute_reply": "2022-07-23T06:29:06.748400Z"
        },
        "trusted": true,
        "id": "tGw1Pea9fgVV"
      },
      "execution_count": 45,
      "outputs": []
    },
    {
      "cell_type": "code",
      "source": [
        "# aykırı gözlem varsa true\n",
        "for col in num_cols:\n",
        "    print(col, check_outlier(df, col))"
      ],
      "metadata": {
        "execution": {
          "iopub.status.busy": "2022-07-23T06:29:06.749989Z",
          "iopub.execute_input": "2022-07-23T06:29:06.751023Z",
          "iopub.status.idle": "2022-07-23T06:29:06.770815Z",
          "shell.execute_reply.started": "2022-07-23T06:29:06.750997Z",
          "shell.execute_reply": "2022-07-23T06:29:06.769657Z"
        },
        "trusted": true,
        "colab": {
          "base_uri": "https://localhost:8080/"
        },
        "id": "Iiqs0kB0fgVX",
        "outputId": "454ce206-ae1a-4849-b948-a543397fc79d"
      },
      "execution_count": 46,
      "outputs": [
        {
          "output_type": "stream",
          "name": "stdout",
          "text": [
            "Runtime True\n",
            "IMDB_Score True\n"
          ]
        }
      ]
    },
    {
      "cell_type": "code",
      "source": [
        "# Grafik Teknikle Aykırı Değerler\n",
        "\n",
        "sns.boxplot(x=df[\"IMDB_Score\"])\n",
        "plt.show()\n",
        "\n",
        "sns.boxplot(x=df[\"Runtime\"])\n",
        "plt.show()"
      ],
      "metadata": {
        "execution": {
          "iopub.status.busy": "2022-07-23T06:29:06.772273Z",
          "iopub.execute_input": "2022-07-23T06:29:06.772589Z",
          "iopub.status.idle": "2022-07-23T06:29:06.962414Z",
          "shell.execute_reply.started": "2022-07-23T06:29:06.772560Z",
          "shell.execute_reply": "2022-07-23T06:29:06.961743Z"
        },
        "trusted": true,
        "colab": {
          "base_uri": "https://localhost:8080/",
          "height": 542
        },
        "id": "CbM1PHYlfgVY",
        "outputId": "d01ad972-e532-439d-9c9c-a1fbe5412327"
      },
      "execution_count": 47,
      "outputs": [
        {
          "output_type": "display_data",
          "data": {
            "text/plain": [
              "<Figure size 432x288 with 1 Axes>"
            ],
            "image/png": "[encoded data removed]"
          },
          "metadata": {
            "needs_background": "light"
          }
        },
        {
          "output_type": "display_data",
          "data": {
            "text/plain": [
              "<Figure size 432x288 with 1 Axes>"
            ],
            "image/png": "[encoded data removed]"
          },
          "metadata": {
            "needs_background": "light"
          }
        }
      ]
    },
    {
      "cell_type": "code",
      "source": [
        "# aykırı değerleri üst ve alt limitler ile değiştirme\n",
        "def replace_with_thresholds(dataframe, variable):\n",
        "    low_limit, up_limit = outlier_thresholds(dataframe, variable)\n",
        "    dataframe.loc[(dataframe[variable] < low_limit), variable] = low_limit\n",
        "    dataframe.loc[(dataframe[variable] > up_limit), variable] = up_limit"
      ],
      "metadata": {
        "execution": {
          "iopub.status.busy": "2022-07-23T06:29:06.963759Z",
          "iopub.execute_input": "2022-07-23T06:29:06.964287Z",
          "iopub.status.idle": "2022-07-23T06:29:06.971476Z",
          "shell.execute_reply.started": "2022-07-23T06:29:06.964255Z",
          "shell.execute_reply": "2022-07-23T06:29:06.970275Z"
        },
        "trusted": true,
        "id": "H82cNgnsfgVZ"
      },
      "execution_count": 48,
      "outputs": []
    },
    {
      "cell_type": "code",
      "source": [
        "for col in num_cols:\n",
        "    print(col, replace_with_thresholds(df, col))"
      ],
      "metadata": {
        "execution": {
          "iopub.status.busy": "2022-07-23T06:29:06.973050Z",
          "iopub.execute_input": "2022-07-23T06:29:06.973981Z",
          "iopub.status.idle": "2022-07-23T06:29:06.995292Z",
          "shell.execute_reply.started": "2022-07-23T06:29:06.973946Z",
          "shell.execute_reply": "2022-07-23T06:29:06.993630Z"
        },
        "trusted": true,
        "colab": {
          "base_uri": "https://localhost:8080/"
        },
        "id": "9YmuSI7kfgVb",
        "outputId": "832d5dd0-5295-42df-da5d-82773f4e5d1f"
      },
      "execution_count": 49,
      "outputs": [
        {
          "output_type": "stream",
          "name": "stdout",
          "text": [
            "Runtime None\n",
            "IMDB_Score None\n"
          ]
        }
      ]
    },
    {
      "cell_type": "code",
      "source": [
        "# aykırı gözlemler düzeldi mi (false oldu mu)\n",
        "for col in num_cols:\n",
        "    print(col, check_outlier(df, col))"
      ],
      "metadata": {
        "execution": {
          "iopub.status.busy": "2022-07-23T06:29:06.997433Z",
          "iopub.execute_input": "2022-07-23T06:29:06.997877Z",
          "iopub.status.idle": "2022-07-23T06:29:07.014588Z",
          "shell.execute_reply.started": "2022-07-23T06:29:06.997839Z",
          "shell.execute_reply": "2022-07-23T06:29:07.013608Z"
        },
        "trusted": true,
        "colab": {
          "base_uri": "https://localhost:8080/"
        },
        "id": "S_Yn4AMBfgVc",
        "outputId": "d2c3a462-bb82-4fd5-8eb1-04b4e163be45"
      },
      "execution_count": 50,
      "outputs": [
        {
          "output_type": "stream",
          "name": "stdout",
          "text": [
            "Runtime False\n",
            "IMDB_Score False\n"
          ]
        }
      ]
    },
    {
      "cell_type": "code",
      "source": [
        "# Grafik Teknikle Baskıladığımız Aykırı Değerlere Tekrar bakalım\n",
        "\n",
        "sns.boxplot(x=df[\"IMDB_Score\"])\n",
        "plt.show()\n",
        "\n",
        "sns.boxplot(x=df[\"Runtime\"])\n",
        "plt.show()"
      ],
      "metadata": {
        "execution": {
          "iopub.status.busy": "2022-07-23T06:29:07.016002Z",
          "iopub.execute_input": "2022-07-23T06:29:07.016821Z",
          "iopub.status.idle": "2022-07-23T06:29:07.172578Z",
          "shell.execute_reply.started": "2022-07-23T06:29:07.016787Z",
          "shell.execute_reply": "2022-07-23T06:29:07.171826Z"
        },
        "trusted": true,
        "colab": {
          "base_uri": "https://localhost:8080/",
          "height": 542
        },
        "id": "tY4cLutRfgVd",
        "outputId": "bf08119a-c54b-4022-da43-c6f4c39f212b"
      },
      "execution_count": 51,
      "outputs": [
        {
          "output_type": "display_data",
          "data": {
            "text/plain": [
              "<Figure size 432x288 with 1 Axes>"
            ],
            "image/png": "[encoded data removed]"
          },
          "metadata": {
            "needs_background": "light"
          }
        },
        {
          "output_type": "display_data",
          "data": {
            "text/plain": [
              "<Figure size 432x288 with 1 Axes>"
            ],
            "image/png": "[encoded data removed]"
          },
          "metadata": {
            "needs_background": "light"
          }
        }
      ]
    }
  ]
}